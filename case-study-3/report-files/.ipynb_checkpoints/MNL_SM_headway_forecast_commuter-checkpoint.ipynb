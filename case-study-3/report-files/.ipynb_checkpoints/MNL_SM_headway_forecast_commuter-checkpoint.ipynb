{
 "cells": [
  {
   "cell_type": "code",
   "execution_count": 1,
   "metadata": {},
   "outputs": [
    {
     "name": "stderr",
     "output_type": "stream",
     "text": [
      "07-04-2019:21:35:15,851 WARNING  [biogeme.py:143] The chosen alternative is not available for the following observations (rownumber[choice]): 9[3]-10[3]-11[3]-12[3]-13[3]-14[3]-15[3]-16[3]-17[3]-36[3]-37[3]-38[3]-39[3]-40[3]-41[3]-42[3]-43[3]-44[3]-81[3]-82[3]-83[3]-84[3]-85[3]-86[3]-87[3]-88[3]-89[3]-90[3]-91[3]-92[3]-93[3]-94[3]-95[3]-96[3]-97[3]-98[3]-99[3]-100[3]-101[3]-102[3]-103[3]-104[3]-105[3]-106[3]-107[3]-108[3]-109[3]-110[3]-111[3]-112[3]-113[3]-114[3]-115[3]-116[3]-126[3]-127[3]-128[3]-129[3]-130[3]-131[3]-132[3]-133[3]-134[3]-180[3]-181[3]-182[3]-183[3]-184[3]-185[3]-186[3]-187[3]-188[3]-207[3]-208[3]-209[3]-210[3]-211[3]-212[3]-213[3]-214[3]-215[3]-234[3]-235[3]-236[3]-237[3]-238[3]-239[3]-240[3]-241[3]-242[3]-243[3]-244[3]-245[3]-246[3]-247[3]-248[3]-249[3]-250[3]-251[3]-279[3]-280[3]-281[3]-282[3]-283[3]-284[3]-285[3]-286[3]-287[3]-288[3]-289[3]-290[3]-291[3]-292[3]-293[3]-294[3]-295[3]-296[3]-297[3]-298[3]-299[3]-300[3]-301[3]-302[3]-303[3]-304[3]-305[3]-306[3]-307[3]-308[3]-309[3]-310[3]-311[3]-312[3]-313[3]-314[3]-315[3]-316[3]-317[3]-318[3]-319[3]-320[3]-321[3]-322[3]-323[3]-333[3]-334[3]-335[3]-336[3]-337[3]-338[3]-339[3]-340[3]-341[3]-342[3]-343[3]-344[3]-345[3]-346[3]-347[3]-348[3]-349[3]-350[3]-351[3]-352[3]-353[3]-354[3]-355[3]-356[3]-357[3]-358[3]-359[3]-378[3]-379[3]-380[3]-381[3]-382[3]-383[3]-384[3]-385[3]-386[3]-405[3]-406[3]-407[3]-408[3]-409[3]-410[3]-411[3]-412[3]-413[3]-459[3]-460[3]-461[3]-462[3]-463[3]-464[3]-465[3]-466[3]-467[3]-477[3]-478[3]-479[3]-480[3]-481[3]-482[3]-483[3]-484[3]-485[3]-486[3]-487[3]-488[3]-489[3]-490[3]-491[3]-492[3]-493[3]-494[3]-648[3]-649[3]-650[3]-651[3]-652[3]-653[3]-654[3]-655[3]-656[3]-675[3]-676[3]-677[3]-678[3]-679[3]-680[3]-681[3]-682[3]-683[3]-693[3]-694[3]-695[3]-696[3]-697[3]-698[3]-699[3]-700[3]-701[3]-711[3]-712[3]-713[3]-714[3]-715[3]-716[3]-717[3]-718[3]-719[3]-801[3]-802[3]-803[3]-804[3]-805[3]-806[3]-807[3]-808[3]-809[3]-891[3]-892[3]-893[3]-894[3]-895[3]-896[3]-897[3]-898[3]-899[3]-918[3]-919[3]-920[3]-921[3]-922[3]-923[3]-924[3]-925[3]-926[3]-3609[3]-3610[3]-3611[3]-3612[3]-3613[3]-3614[3]-3615[3]-3616[3]-3617[3]\n"
     ]
    },
    {
     "name": "stdout",
     "output_type": "stream",
     "text": [
      "Results=             choice  01 Prob. Train  02 Prob. SM  03 Prob. Car\n",
      "count  1719.000000     1719.000000  1719.000000   1719.000000\n",
      "mean      2.059919        0.183524     0.552753      0.263722\n",
      "std       0.534507        0.135829     0.181880      0.235449\n",
      "min       1.000000        0.000001     0.000745      0.000000\n",
      "25%       2.000000        0.072911     0.457895      0.073732\n",
      "50%       2.000000        0.155206     0.559045      0.228254\n",
      "75%       2.000000        0.288812     0.667369      0.389535\n",
      "max       3.000000        0.812859     0.983108      0.999164\n"
     ]
    }
   ],
   "source": [
    "\"\"\"Swiss Metro Frequency changes by travel purpose -- Forecast case -- commuter\n",
    "\n",
    "Swiss Metro Case Study\n",
    "Demand Modeling: 1.202\n",
    "Spring 2019\n",
    "Alexandra Berke\n",
    "\n",
    "\"\"\"\n",
    "\n",
    "import pandas as pd\n",
    "import biogeme.database as db\n",
    "import biogeme.biogeme as bio\n",
    "import biogeme.models as models\n",
    "\n",
    "pandas = pd.read_table(\"swissmetro.dat\")\n",
    "database = db.Database(\"swissmetro\",pandas)\n",
    "\n",
    "from headers import *\n",
    "\n",
    "# Specify parameters to estimate\n",
    "#1: the name of the parameter,\n",
    "#2: the default value,\n",
    "#3: a lower bound (or None, if no bound is specified),\n",
    "#4: an upper bound, (or None, if no bound is specified),\n",
    "#5: a flag that indicates if the parameter must be estimated (0) or if it keeps its default value.\n",
    "ASC_CAR\t = Beta('ASC_CAR',-0.215775,-20,20,0,'ASC_CAR')\n",
    "ASC_SBB\t = Beta('ASC_SBB',0,-10,10,1,'ASC_SBB')\n",
    "ASC_SM\t = Beta('ASC_SM',0.122635,-20,20,0,'ASC_SM')\n",
    "B_CAR_COST\t = Beta('B_CAR_COST',-0.007514,-10,10,0,'B_CAR_COST')\n",
    "B_HE\t = Beta('B_HE',-0.005887,-10,10,0,'B_HE')\n",
    "B_SM_COST\t = Beta('B_SM_COST',-0.011591,-10,10,0,'B_SM_COST')\n",
    "B_CAR_TIME\t = Beta('B_CAR_TIME',-0.013063,-10,10,0,'B_CAR_TIME')\n",
    "B_TRAIN_TIME\t = Beta('B_TRAIN_TIME',-0.008814,-10,10,0,'B_TRAIN_TIME')\n",
    "B_SM_TIME\t = Beta('B_SM_TIME',-0.010993,-10,10,0,'B_SM_TIME')\n",
    "B_TRAIN_COST\t = Beta('B_TRAIN_COST',-0.029349,-10,10,0,'B_TRAIN_COST')\n",
    "B_SENIOR\t = Beta('B_SENIOR',-1.864569,-10,10,0,'B_SENIOR')\n",
    "B_GA\t = Beta('B_GA',0.518405,-10,80,0,'B_GA')\n",
    "B_FIRST\t = Beta('B_FIRST',0.261506,-10,80,0,'B_FIRST')\n",
    "\n",
    "# Define here arithmetic expressions for name that are not directly \n",
    "# available from the data\n",
    "\n",
    "SENIOR  = DefineVariable('SENIOR', AGE   ==  5,database )\n",
    "CAR_AV_SP  = DefineVariable('CAR_AV_SP', CAR_AV    *  (  SP   !=  0  ),database)\n",
    "SM_COST  = DefineVariable('SM_COST', SM_CO   * (  GA   ==  0  ),database)\n",
    "TRAIN_HEADWAY = DefineVariable('TRAIN_HEADWAY', TRAIN_HE * 0.5,database)\n",
    "SM_HEADWAY = DefineVariable('SM_HEADWAY', SM_HE * 2,database)\n",
    "TRAIN_AV_SP  = DefineVariable('TRAIN_AV_SP', TRAIN_AV    *  (  SP   !=  0  ),database)\n",
    "TRAIN_COST  = DefineVariable('TRAIN_COST', TRAIN_CO   * (  GA   ==  0  ),database)\n",
    "one  = DefineVariable('one',1,database)\n",
    "\n",
    "#Utilities\n",
    "Car_SP = ASC_CAR * one + B_CAR_TIME * CAR_TT + B_CAR_COST * CAR_CO + B_SENIOR * SENIOR\n",
    "SBB_SP = ASC_SBB * one + B_TRAIN_TIME * TRAIN_TT + B_TRAIN_COST * TRAIN_COST + B_HE * TRAIN_HEADWAY \\\n",
    "        + B_GA * GA + B_FIRST * FIRST\n",
    "SM_SP = ASC_SM * one + B_SM_TIME * SM_TT + B_SM_COST * SM_COST + B_HE * SM_HEADWAY + B_GA * GA \\\n",
    "        + B_SENIOR * SENIOR + B_FIRST * FIRST\n",
    "\n",
    "V = {3: Car_SP,1: SBB_SP,2: SM_SP}\n",
    "av = {3: CAR_AV_SP,1: TRAIN_AV_SP,2: SM_AV}\n",
    "\n",
    "# Exclude\n",
    "# Here we use the \"biogeme\" way for backward compatibility\n",
    "# Travelers are excluded with PURPOSE values 2, 3, 4, 6, 7, 8, 9.\n",
    "exclude = ((  CHOICE   ==  0  ) \\\n",
    "           + (  PURPOSE == 2  ) + (  PURPOSE == 3  ) + (  PURPOSE == 4  ) + (  PURPOSE == 6  ) \\\n",
    "           + (  PURPOSE == 7  ) + (  PURPOSE == 8  ) + (  PURPOSE == 9  ) + (  AGE == 6  ))>0\n",
    "database.remove(exclude)\n",
    "\n",
    "#No need for estimating the model (it is already estimated). We want to obtain the individual probabilities and the market shares\n",
    "prob1 = models.logit(V,av,1)\n",
    "prob2 = models.logit(V,av,2)\n",
    "prob3 = models.logit(V,av,3)\n",
    "#Instead of reporting the choice in the simulation file, the probability of the chosen can be printed\n",
    "\n",
    "#Simulation output\n",
    "simulate = {'choice': CHOICE,\n",
    "            '01 Prob. Train': prob1,\n",
    "            '02 Prob. SM': prob2,\n",
    "            '03 Prob. Car': prob3\n",
    "           }\n",
    "\n",
    "biogeme  = bio.BIOGEME(database,simulate)\n",
    "biogeme.modelName = \"MNL_SM_headway_forecast_commuter\"\n",
    "results = biogeme.simulate()\n",
    "print(\"Results=\",results.describe())"
   ]
  },
  {
   "cell_type": "code",
   "execution_count": null,
   "metadata": {},
   "outputs": [],
   "source": []
  }
 ],
 "metadata": {
  "kernelspec": {
   "display_name": "Python 3",
   "language": "python",
   "name": "python3"
  },
  "language_info": {
   "codemirror_mode": {
    "name": "ipython",
    "version": 3
   },
   "file_extension": ".py",
   "mimetype": "text/x-python",
   "name": "python",
   "nbconvert_exporter": "python",
   "pygments_lexer": "ipython3",
   "version": "3.7.1"
  }
 },
 "nbformat": 4,
 "nbformat_minor": 2
}
