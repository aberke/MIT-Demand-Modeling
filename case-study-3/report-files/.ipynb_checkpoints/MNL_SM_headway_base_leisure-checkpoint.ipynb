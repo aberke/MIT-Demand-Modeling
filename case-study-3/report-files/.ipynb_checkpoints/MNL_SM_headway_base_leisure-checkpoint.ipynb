{
 "cells": [
  {
   "cell_type": "code",
   "execution_count": 4,
   "metadata": {},
   "outputs": [
    {
     "name": "stderr",
     "output_type": "stream",
     "text": [
      "07-04-2019:21:16:33,584 WARNING  [biogeme.py:143] The chosen alternative is not available for the following observations (rownumber[choice]): 3564[3]-3565[3]-3566[3]-3567[3]-3568[3]-3569[3]-3570[3]-3571[3]-3572[3]-3573[3]-3574[3]-3575[3]-3576[3]-3577[3]-3578[3]-3579[3]-3580[3]-3581[3]-3582[3]-3583[3]-3584[3]-3585[3]-3586[3]-3587[3]-3588[3]-3589[3]-3590[3]\n"
     ]
    },
    {
     "name": "stdout",
     "output_type": "stream",
     "text": [
      "Results=             choice  01 Prob. Train  02 Prob. SM  03 Prob. Car\n",
      "count  2313.000000    2.313000e+03  2313.000000   2313.000000\n",
      "mean      2.435365    1.107616e-01     0.561294      0.327945\n",
      "std       0.600817    1.280451e-01     0.185565      0.191222\n",
      "min       1.000000    7.740791e-07     0.000533      0.000000\n",
      "25%       2.000000    3.384286e-02     0.433812      0.189136\n",
      "50%       2.000000    7.096902e-02     0.565455      0.301721\n",
      "75%       3.000000    1.352010e-01     0.696753      0.450520\n",
      "max       3.000000    8.044601e-01     0.967307      0.999458\n"
     ]
    }
   ],
   "source": [
    "\"\"\"Swiss Metro Frequency changes by travel purpose -- Base case -- leisure\n",
    "\n",
    "Swiss Metro Case Study\n",
    "Demand Modeling: 1.202\n",
    "Spring 2019\n",
    "Alexandra Berke\n",
    "\n",
    "\"\"\"\n",
    "\n",
    "import pandas as pd\n",
    "import biogeme.database as db\n",
    "import biogeme.biogeme as bio\n",
    "import biogeme.models as models\n",
    "\n",
    "pandas = pd.read_table(\"swissmetro.dat\")\n",
    "database = db.Database(\"swissmetro\",pandas)\n",
    "\n",
    "from headers import *\n",
    "\n",
    "# Specify parameters to estimate\n",
    "#1: the name of the parameter,\n",
    "#2: the default value,\n",
    "#3: a lower bound (or None, if no bound is specified),\n",
    "#4: an upper bound, (or None, if no bound is specified),\n",
    "#5: a flag that indicates if the parameter must be estimated (0) or if it keeps its default value.\n",
    "ASC_CAR\t = Beta('ASC_CAR',-0.215775,-20,20,0,'ASC_CAR')\n",
    "ASC_SBB\t = Beta('ASC_SBB',0,-10,10,1,'ASC_SBB')\n",
    "ASC_SM\t = Beta('ASC_SM',0.122635,-20,20,0,'ASC_SM')\n",
    "B_CAR_COST\t = Beta('B_CAR_COST',-0.007514,-10,10,0,'B_CAR_COST')\n",
    "B_HE\t = Beta('B_HE',-0.005887,-10,10,0,'B_HE')\n",
    "B_SM_COST\t = Beta('B_SM_COST',-0.011591,-10,10,0,'B_SM_COST')\n",
    "B_CAR_TIME\t = Beta('B_CAR_TIME',-0.013063,-10,10,0,'B_CAR_TIME')\n",
    "B_TRAIN_TIME\t = Beta('B_TRAIN_TIME',-0.008814,-10,10,0,'B_TRAIN_TIME')\n",
    "B_SM_TIME\t = Beta('B_SM_TIME',-0.010993,-10,10,0,'B_SM_TIME')\n",
    "B_TRAIN_COST\t = Beta('B_TRAIN_COST',-0.029349,-10,10,0,'B_TRAIN_COST')\n",
    "B_SENIOR\t = Beta('B_SENIOR',-1.864569,-10,10,0,'B_SENIOR')\n",
    "B_GA\t = Beta('B_GA',0.518405,-10,80,0,'B_GA')\n",
    "B_FIRST\t = Beta('B_FIRST',0.261506,-10,80,0,'B_FIRST')\n",
    "\n",
    "# Define here arithmetic expressions for name that are not directly \n",
    "# available from the data\n",
    "\n",
    "SENIOR  = DefineVariable('SENIOR', AGE   ==  5,database )\n",
    "CAR_AV_SP  = DefineVariable('CAR_AV_SP', CAR_AV    *  (  SP   !=  0  ),database)\n",
    "SM_COST  = DefineVariable('SM_COST', SM_CO   * (  GA   ==  0  ),database)\n",
    "TRAIN_AV_SP  = DefineVariable('TRAIN_AV_SP', TRAIN_AV    *  (  SP   !=  0  ),database)\n",
    "TRAIN_COST  = DefineVariable('TRAIN_COST', TRAIN_CO   * (  GA   ==  0  ),database)\n",
    "one  = DefineVariable('one',1,database)\n",
    "\n",
    "#Utilities\n",
    "Car_SP = ASC_CAR * one + B_CAR_TIME * CAR_TT + B_CAR_COST * CAR_CO + B_SENIOR * SENIOR\n",
    "SBB_SP = ASC_SBB * one + B_TRAIN_TIME * TRAIN_TT + B_TRAIN_COST * TRAIN_COST + B_HE * TRAIN_HE \\\n",
    "        + B_GA * GA + B_FIRST * FIRST\n",
    "SM_SP = ASC_SM * one + B_SM_TIME * SM_TT + B_SM_COST * SM_COST + B_HE * SM_HE + B_GA * GA \\\n",
    "        + B_SENIOR * SENIOR + B_FIRST * FIRST\n",
    "\n",
    "V = {3: Car_SP,1: SBB_SP,2: SM_SP}\n",
    "av = {3: CAR_AV_SP,1: TRAIN_AV_SP,2: SM_AV}\n",
    "\n",
    "# Exclude\n",
    "# Here we use the \"biogeme\" way for backward compatibility\n",
    "# Travelers are excluded with PURPOSE values 1, 2, 3, 5, 6, 7, 9.\n",
    "exclude = ((  CHOICE   ==  0  ) \\\n",
    "           + (  PURPOSE == 1  ) + (  PURPOSE == 2  ) + (  PURPOSE == 3  ) + (  PURPOSE == 5  ) \\\n",
    "           + (  PURPOSE == 6  ) + (  PURPOSE == 7  ) + (  PURPOSE == 9  ) + (  AGE == 6  ))>0\n",
    "database.remove(exclude)\n",
    "\n",
    "#No need for estimating the model (it is already estimated). We want to obtain the individual probabilities and the market shares\n",
    "prob1 = models.logit(V,av,1)\n",
    "prob2 = models.logit(V,av,2)\n",
    "prob3 = models.logit(V,av,3)\n",
    "#Instead of reporting the choice in the simulation file, the probability of the chosen can be printed\n",
    "\n",
    "#Simulation output\n",
    "simulate = {'choice': CHOICE,\n",
    "            '01 Prob. Train': prob1,\n",
    "            '02 Prob. SM': prob2,\n",
    "            '03 Prob. Car': prob3}\n",
    "\n",
    "biogeme  = bio.BIOGEME(database,simulate)\n",
    "biogeme.modelName = \"MNL_SM_headway_base_leisure\"\n",
    "results = biogeme.simulate()\n",
    "print(\"Results=\",results.describe())"
   ]
  },
  {
   "cell_type": "code",
   "execution_count": null,
   "metadata": {},
   "outputs": [],
   "source": []
  }
 ],
 "metadata": {
  "kernelspec": {
   "display_name": "Python 3",
   "language": "python",
   "name": "python3"
  },
  "language_info": {
   "codemirror_mode": {
    "name": "ipython",
    "version": 3
   },
   "file_extension": ".py",
   "mimetype": "text/x-python",
   "name": "python",
   "nbconvert_exporter": "python",
   "pygments_lexer": "ipython3",
   "version": "3.7.1"
  }
 },
 "nbformat": 4,
 "nbformat_minor": 2
}
