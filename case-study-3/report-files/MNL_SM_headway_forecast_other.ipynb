{
 "cells": [
  {
   "cell_type": "code",
   "execution_count": 1,
   "metadata": {},
   "outputs": [
    {
     "name": "stderr",
     "output_type": "stream",
     "text": [
      "07-04-2019:21:42:08,412 WARNING  [biogeme.py:143] The chosen alternative is not available for the following observations (rownumber[choice]): 963[3]-964[3]-965[3]-966[3]-967[3]-968[3]-969[3]-970[3]-971[3]-972[3]-973[3]-974[3]-975[3]-976[3]-977[3]-978[3]-979[3]-980[3]-981[3]-982[3]-983[3]-984[3]-985[3]-986[3]-987[3]-988[3]-989[3]-1008[3]-1009[3]-1010[3]-1011[3]-1012[3]-1013[3]-1014[3]-1015[3]-1016[3]-1017[3]-1018[3]-1019[3]-1020[3]-1021[3]-1022[3]-1023[3]-1024[3]-1025[3]-1035[3]-1036[3]-1037[3]-1038[3]-1039[3]-1040[3]-1041[3]-1042[3]-1043[3]-1053[3]-1054[3]-1055[3]-1056[3]-1057[3]-1058[3]-1059[3]-1060[3]-1061[3]-1098[3]-1099[3]-1100[3]-1101[3]-1102[3]-1103[3]-1104[3]-1105[3]-1106[3]-1107[3]-1108[3]-1109[3]-1110[3]-1111[3]-1112[3]-1113[3]-1114[3]-1115[3]-1143[3]-1144[3]-1145[3]-1146[3]-1147[3]-1148[3]-1149[3]-1150[3]-1151[3]-1170[3]-1171[3]-1172[3]-1173[3]-1174[3]-1175[3]-1176[3]-1177[3]-1178[3]-1188[3]-1189[3]-1190[3]-1191[3]-1192[3]-1193[3]-1194[3]-1195[3]-1196[3]-1197[3]-1198[3]-1199[3]-1200[3]-1201[3]-1202[3]-1203[3]-1204[3]-1205[3]-1215[3]-1216[3]-1217[3]-1218[3]-1219[3]-1220[3]-1221[3]-1222[3]-1223[3]-1224[3]-1225[3]-1226[3]-1227[3]-1228[3]-1229[3]-1230[3]-1231[3]-1232[3]-1242[3]-1243[3]-1244[3]-1245[3]-1246[3]-1247[3]-1248[3]-1249[3]-1250[3]-1260[3]-1261[3]-1262[3]-1263[3]-1264[3]-1265[3]-1266[3]-1267[3]-1268[3]-1269[3]-1270[3]-1271[3]-1272[3]-1273[3]-1274[3]-1275[3]-1276[3]-1277[3]-1278[3]-1279[3]-1280[3]-1281[3]-1282[3]-1283[3]-1284[3]-1285[3]-1286[3]-1287[3]-1288[3]-1289[3]-1290[3]-1291[3]-1292[3]-1293[3]-1294[3]-1295[3]-1305[3]-1306[3]-1307[3]-1308[3]-1309[3]-1310[3]-1311[3]-1312[3]-1313[3]-1314[3]-1315[3]-1316[3]-1317[3]-1318[3]-1319[3]-1320[3]-1321[3]-1322[3]-1404[3]-1405[3]-1406[3]-1407[3]-1408[3]-1409[3]-1410[3]-1411[3]-1412[3]-1413[3]-1414[3]-1415[3]-1416[3]-1417[3]-1418[3]-1419[3]-1420[3]-1421[3]-1422[3]-1423[3]-1424[3]-1425[3]-1426[3]-1427[3]-1428[3]-1429[3]-1430[3]-1431[3]-1432[3]-1433[3]-1434[3]-1435[3]-1436[3]-1437[3]-1438[3]-1439[3]-1440[3]-1441[3]-1442[3]-1443[3]-1444[3]-1445[3]-1446[3]-1447[3]-1448[3]-1458[3]-1459[3]-1460[3]-1461[3]-1462[3]-1463[3]-1464[3]-1465[3]-1466[3]-1467[3]-1468[3]-1469[3]-1470[3]-1471[3]-1472[3]-1473[3]-1474[3]-1475[3]-1476[3]-1477[3]-1478[3]-1479[3]-1480[3]-1481[3]-1482[3]-1483[3]-1484[3]-1494[3]-1495[3]-1496[3]-1497[3]-1498[3]-1499[3]-1500[3]-1501[3]-1502[3]-1503[3]-1504[3]-1505[3]-1506[3]-1507[3]-1508[3]-1509[3]-1510[3]-1511[3]-1539[3]-1540[3]-1541[3]-1542[3]-1543[3]-1544[3]-1545[3]-1546[3]-1547[3]-1548[3]-1549[3]-1550[3]-1551[3]-1552[3]-1553[3]-1554[3]-1555[3]-1556[3]-1566[3]-1567[3]-1568[3]-1569[3]-1570[3]-1571[3]-1572[3]-1573[3]-1574[3]-1647[3]-1648[3]-1649[3]-1650[3]-1651[3]-1652[3]-1653[3]-1654[3]-1655[3]-1665[3]-1666[3]-1667[3]-1668[3]-1669[3]-1670[3]-1671[3]-1672[3]-1673[3]-1683[3]-1684[3]-1685[3]-1686[3]-1687[3]-1688[3]-1689[3]-1690[3]-1691[3]-1710[3]-1711[3]-1712[3]-1713[3]-1714[3]-1715[3]-1716[3]-1717[3]-1718[3]-1737[3]-1738[3]-1739[3]-1740[3]-1741[3]-1742[3]-1743[3]-1744[3]-1745[3]-1764[3]-1765[3]-1766[3]-1767[3]-1768[3]-1769[3]-1770[3]-1771[3]-1772[3]-1791[3]-1792[3]-1793[3]-1794[3]-1795[3]-1796[3]-1797[3]-1798[3]-1799[3]-1827[3]-1828[3]-1829[3]-1830[3]-1831[3]-1832[3]-1833[3]-1834[3]-1835[3]-1845[3]-1846[3]-1847[3]-1848[3]-1849[3]-1850[3]-1851[3]-1852[3]-1853[3]-1890[3]-1891[3]-1892[3]-1893[3]-1894[3]-1895[3]-1896[3]-1897[3]-1898[3]-1899[3]-1900[3]-1901[3]-1902[3]-1903[3]-1904[3]-1905[3]-1906[3]-1907[3]-1935[3]-1936[3]-1937[3]-1938[3]-1939[3]-1940[3]-1941[3]-1942[3]-1943[3]-3960[3]-3961[3]-3962[3]-3963[3]-3964[3]-3965[3]-3966[3]-3967[3]-3968[3]\n"
     ]
    },
    {
     "name": "stdout",
     "output_type": "stream",
     "text": [
      "Results=             choice  01 Prob. Train  02 Prob. SM  03 Prob. Car\n",
      "count  1350.000000     1350.000000  1350.000000   1350.000000\n",
      "mean      1.886667        0.233872     0.535927      0.230202\n",
      "std       0.583730        0.155286     0.213413      0.277250\n",
      "min       1.000000        0.000004     0.002951      0.000000\n",
      "25%       2.000000        0.089961     0.453429      0.000000\n",
      "50%       2.000000        0.242017     0.545949      0.137679\n",
      "75%       2.000000        0.369056     0.640921      0.335034\n",
      "max       3.000000        0.697747     0.999964      0.997043\n"
     ]
    }
   ],
   "source": [
    "\"\"\"Swiss Metro Frequency changes by travel purpose -- Forecast case -- Other\n",
    "\n",
    "Swiss Metro Case Study\n",
    "Demand Modeling: 1.202\n",
    "Spring 2019\n",
    "Alexandra Berke\n",
    "\n",
    "\"\"\"\n",
    "\n",
    "import pandas as pd\n",
    "import biogeme.database as db\n",
    "import biogeme.biogeme as bio\n",
    "import biogeme.models as models\n",
    "\n",
    "pandas = pd.read_table(\"swissmetro.dat\")\n",
    "database = db.Database(\"swissmetro\",pandas)\n",
    "\n",
    "from headers import *\n",
    "\n",
    "# Specify parameters to estimate\n",
    "#1: the name of the parameter,\n",
    "#2: the default value,\n",
    "#3: a lower bound (or None, if no bound is specified),\n",
    "#4: an upper bound, (or None, if no bound is specified),\n",
    "#5: a flag that indicates if the parameter must be estimated (0) or if it keeps its default value.\n",
    "ASC_CAR\t = Beta('ASC_CAR',-0.215775,-20,20,0,'ASC_CAR')\n",
    "ASC_SBB\t = Beta('ASC_SBB',0,-10,10,1,'ASC_SBB')\n",
    "ASC_SM\t = Beta('ASC_SM',0.122635,-20,20,0,'ASC_SM')\n",
    "B_CAR_COST\t = Beta('B_CAR_COST',-0.007514,-10,10,0,'B_CAR_COST')\n",
    "B_HE\t = Beta('B_HE',-0.005887,-10,10,0,'B_HE')\n",
    "B_SM_COST\t = Beta('B_SM_COST',-0.011591,-10,10,0,'B_SM_COST')\n",
    "B_CAR_TIME\t = Beta('B_CAR_TIME',-0.013063,-10,10,0,'B_CAR_TIME')\n",
    "B_TRAIN_TIME\t = Beta('B_TRAIN_TIME',-0.008814,-10,10,0,'B_TRAIN_TIME')\n",
    "B_SM_TIME\t = Beta('B_SM_TIME',-0.010993,-10,10,0,'B_SM_TIME')\n",
    "B_TRAIN_COST\t = Beta('B_TRAIN_COST',-0.029349,-10,10,0,'B_TRAIN_COST')\n",
    "B_SENIOR\t = Beta('B_SENIOR',-1.864569,-10,10,0,'B_SENIOR')\n",
    "B_GA\t = Beta('B_GA',0.518405,-10,80,0,'B_GA')\n",
    "B_FIRST\t = Beta('B_FIRST',0.261506,-10,80,0,'B_FIRST')\n",
    "\n",
    "# Define here arithmetic expressions for name that are not directly \n",
    "# available from the data\n",
    "\n",
    "SENIOR  = DefineVariable('SENIOR', AGE   ==  5,database )\n",
    "CAR_AV_SP  = DefineVariable('CAR_AV_SP', CAR_AV    *  (  SP   !=  0  ),database)\n",
    "SM_COST  = DefineVariable('SM_COST', SM_CO   * (  GA   ==  0  ),database)\n",
    "TRAIN_HEADWAY = DefineVariable('TRAIN_HEADWAY', TRAIN_HE * 0.5,database)\n",
    "SM_HEADWAY = DefineVariable('SM_HEADWAY', SM_HE * 2,database)\n",
    "TRAIN_AV_SP  = DefineVariable('TRAIN_AV_SP', TRAIN_AV    *  (  SP   !=  0  ),database)\n",
    "TRAIN_COST  = DefineVariable('TRAIN_COST', TRAIN_CO   * (  GA   ==  0  ),database)\n",
    "one  = DefineVariable('one',1,database)\n",
    "\n",
    "#Utilities\n",
    "Car_SP = ASC_CAR * one + B_CAR_TIME * CAR_TT + B_CAR_COST * CAR_CO + B_SENIOR * SENIOR\n",
    "SBB_SP = ASC_SBB * one + B_TRAIN_TIME * TRAIN_TT + B_TRAIN_COST * TRAIN_COST + B_HE * TRAIN_HEADWAY \\\n",
    "        + B_GA * GA + B_FIRST * FIRST\n",
    "SM_SP = ASC_SM * one + B_SM_TIME * SM_TT + B_SM_COST * SM_COST + B_HE * SM_HEADWAY + B_GA * GA \\\n",
    "        + B_SENIOR * SENIOR + B_FIRST * FIRST\n",
    "\n",
    "V = {3: Car_SP,1: SBB_SP,2: SM_SP}\n",
    "av = {3: CAR_AV_SP,1: TRAIN_AV_SP,2: SM_AV}\n",
    "\n",
    "# Exclude\n",
    "# Here we use the \"biogeme\" way for backward compatibility\n",
    "# Travelers are excluded with PURPOSE values 1, 3, 4, 5, 7, 8.\n",
    "exclude = ((  CHOICE   ==  0  ) \\\n",
    "           + (  PURPOSE == 1  ) + (  PURPOSE == 3  ) + (  PURPOSE == 4  ) \\\n",
    "           + (  PURPOSE == 5  ) + (  PURPOSE == 7  ) + (  PURPOSE == 8  ) + (  AGE == 6  ))>0\n",
    "database.remove(exclude)\n",
    "\n",
    "#No need for estimating the model (it is already estimated). We want to obtain the individual probabilities and the market shares\n",
    "prob1 = models.logit(V,av,1)\n",
    "prob2 = models.logit(V,av,2)\n",
    "prob3 = models.logit(V,av,3)\n",
    "#Instead of reporting the choice in the simulation file, the probability of the chosen can be printed\n",
    "\n",
    "#Simulation output\n",
    "simulate = {'choice': CHOICE,\n",
    "            '01 Prob. Train': prob1,\n",
    "            '02 Prob. SM': prob2,\n",
    "            '03 Prob. Car': prob3\n",
    "           }\n",
    "\n",
    "biogeme  = bio.BIOGEME(database,simulate)\n",
    "biogeme.modelName = \"MNL_SM_headway_forecast_other\"\n",
    "results = biogeme.simulate()\n",
    "print(\"Results=\",results.describe())"
   ]
  },
  {
   "cell_type": "code",
   "execution_count": null,
   "metadata": {},
   "outputs": [],
   "source": []
  }
 ],
 "metadata": {
  "kernelspec": {
   "display_name": "Python 3",
   "language": "python",
   "name": "python3"
  },
  "language_info": {
   "codemirror_mode": {
    "name": "ipython",
    "version": 3
   },
   "file_extension": ".py",
   "mimetype": "text/x-python",
   "name": "python",
   "nbconvert_exporter": "python",
   "pygments_lexer": "ipython3",
   "version": "3.7.1"
  }
 },
 "nbformat": 4,
 "nbformat_minor": 2
}
