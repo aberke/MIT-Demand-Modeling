{
 "cells": [
  {
   "cell_type": "code",
   "execution_count": 5,
   "metadata": {},
   "outputs": [
    {
     "data": {
      "text/html": [
       "<div>\n",
       "<style scoped>\n",
       "    .dataframe tbody tr th:only-of-type {\n",
       "        vertical-align: middle;\n",
       "    }\n",
       "\n",
       "    .dataframe tbody tr th {\n",
       "        vertical-align: top;\n",
       "    }\n",
       "\n",
       "    .dataframe thead th {\n",
       "        text-align: right;\n",
       "    }\n",
       "</style>\n",
       "<table border=\"1\" class=\"dataframe\">\n",
       "  <thead>\n",
       "    <tr style=\"text-align: right;\">\n",
       "      <th></th>\n",
       "      <th>ACO</th>\n",
       "      <th>AHS</th>\n",
       "      <th>SI</th>\n",
       "      <th>SRI</th>\n",
       "      <th>TODU</th>\n",
       "      <th>UI</th>\n",
       "    </tr>\n",
       "  </thead>\n",
       "  <tbody>\n",
       "    <tr>\n",
       "      <th>0</th>\n",
       "      <td>0.59</td>\n",
       "      <td>3.26</td>\n",
       "      <td>21.01</td>\n",
       "      <td>28.32</td>\n",
       "      <td>3.18</td>\n",
       "      <td>60.10</td>\n",
       "    </tr>\n",
       "    <tr>\n",
       "      <th>1</th>\n",
       "      <td>0.57</td>\n",
       "      <td>3.13</td>\n",
       "      <td>21.61</td>\n",
       "      <td>20.89</td>\n",
       "      <td>3.89</td>\n",
       "      <td>65.71</td>\n",
       "    </tr>\n",
       "    <tr>\n",
       "      <th>2</th>\n",
       "      <td>0.61</td>\n",
       "      <td>3.02</td>\n",
       "      <td>12.57</td>\n",
       "      <td>25.99</td>\n",
       "      <td>3.98</td>\n",
       "      <td>63.19</td>\n",
       "    </tr>\n",
       "    <tr>\n",
       "      <th>3</th>\n",
       "      <td>0.61</td>\n",
       "      <td>3.14</td>\n",
       "      <td>17.61</td>\n",
       "      <td>28.52</td>\n",
       "      <td>4.16</td>\n",
       "      <td>66.24</td>\n",
       "    </tr>\n",
       "    <tr>\n",
       "      <th>4</th>\n",
       "      <td>0.63</td>\n",
       "      <td>3.75</td>\n",
       "      <td>35.32</td>\n",
       "      <td>27.18</td>\n",
       "      <td>3.60</td>\n",
       "      <td>58.36</td>\n",
       "    </tr>\n",
       "  </tbody>\n",
       "</table>\n",
       "</div>"
      ],
      "text/plain": [
       "    ACO   AHS     SI    SRI  TODU     UI\n",
       "0  0.59  3.26  21.01  28.32  3.18  60.10\n",
       "1  0.57  3.13  21.61  20.89  3.89  65.71\n",
       "2  0.61  3.02  12.57  25.99  3.98  63.19\n",
       "3  0.61  3.14  17.61  28.52  4.16  66.24\n",
       "4  0.63  3.75  35.32  27.18  3.60  58.36"
      ]
     },
     "execution_count": 5,
     "metadata": {},
     "output_type": "execute_result"
    }
   ],
   "source": [
    "import pandas as pd\n",
    "import numpy as np\n",
    "from sklearn.linear_model import LinearRegression\n",
    "import matplotlib.pyplot as plt\n",
    "%matplotlib inline\n",
    "\n",
    "\n",
    "# PART 1\n",
    "\n",
    "# Read in the data\n",
    "trips_data_df = pd.read_csv('CS1_data.csv')\n",
    "trips_data_df.head()"
   ]
  },
  {
   "cell_type": "code",
   "execution_count": 12,
   "metadata": {},
   "outputs": [
    {
     "data": {
      "text/html": [
       "<div>\n",
       "<style scoped>\n",
       "    .dataframe tbody tr th:only-of-type {\n",
       "        vertical-align: middle;\n",
       "    }\n",
       "\n",
       "    .dataframe tbody tr th {\n",
       "        vertical-align: top;\n",
       "    }\n",
       "\n",
       "    .dataframe thead th {\n",
       "        text-align: right;\n",
       "    }\n",
       "</style>\n",
       "<table border=\"1\" class=\"dataframe\">\n",
       "  <thead>\n",
       "    <tr style=\"text-align: right;\">\n",
       "      <th></th>\n",
       "      <th>ACO</th>\n",
       "      <th>AHS</th>\n",
       "      <th>SI</th>\n",
       "      <th>SRI</th>\n",
       "      <th>TODU</th>\n",
       "      <th>UI</th>\n",
       "    </tr>\n",
       "  </thead>\n",
       "  <tbody>\n",
       "    <tr>\n",
       "      <th>count</th>\n",
       "      <td>57.000000</td>\n",
       "      <td>57.000000</td>\n",
       "      <td>57.000000</td>\n",
       "      <td>57.000000</td>\n",
       "      <td>57.000000</td>\n",
       "      <td>57.000000</td>\n",
       "    </tr>\n",
       "    <tr>\n",
       "      <th>mean</th>\n",
       "      <td>0.811754</td>\n",
       "      <td>3.185088</td>\n",
       "      <td>13.073158</td>\n",
       "      <td>49.560000</td>\n",
       "      <td>5.373158</td>\n",
       "      <td>52.618772</td>\n",
       "    </tr>\n",
       "    <tr>\n",
       "      <th>std</th>\n",
       "      <td>0.177655</td>\n",
       "      <td>0.389052</td>\n",
       "      <td>12.186774</td>\n",
       "      <td>15.844723</td>\n",
       "      <td>1.325458</td>\n",
       "      <td>13.458622</td>\n",
       "    </tr>\n",
       "    <tr>\n",
       "      <th>min</th>\n",
       "      <td>0.500000</td>\n",
       "      <td>1.830000</td>\n",
       "      <td>2.170000</td>\n",
       "      <td>20.890000</td>\n",
       "      <td>3.020000</td>\n",
       "      <td>24.080000</td>\n",
       "    </tr>\n",
       "    <tr>\n",
       "      <th>25%</th>\n",
       "      <td>0.670000</td>\n",
       "      <td>3.000000</td>\n",
       "      <td>6.820000</td>\n",
       "      <td>38.140000</td>\n",
       "      <td>4.540000</td>\n",
       "      <td>44.800000</td>\n",
       "    </tr>\n",
       "    <tr>\n",
       "      <th>50%</th>\n",
       "      <td>0.790000</td>\n",
       "      <td>3.190000</td>\n",
       "      <td>9.860000</td>\n",
       "      <td>49.370000</td>\n",
       "      <td>5.100000</td>\n",
       "      <td>55.510000</td>\n",
       "    </tr>\n",
       "    <tr>\n",
       "      <th>75%</th>\n",
       "      <td>0.920000</td>\n",
       "      <td>3.370000</td>\n",
       "      <td>15.080000</td>\n",
       "      <td>60.850000</td>\n",
       "      <td>6.130000</td>\n",
       "      <td>61.090000</td>\n",
       "    </tr>\n",
       "    <tr>\n",
       "      <th>max</th>\n",
       "      <td>1.320000</td>\n",
       "      <td>4.500000</td>\n",
       "      <td>62.530000</td>\n",
       "      <td>87.380000</td>\n",
       "      <td>9.140000</td>\n",
       "      <td>83.660000</td>\n",
       "    </tr>\n",
       "  </tbody>\n",
       "</table>\n",
       "</div>"
      ],
      "text/plain": [
       "             ACO        AHS         SI        SRI       TODU         UI\n",
       "count  57.000000  57.000000  57.000000  57.000000  57.000000  57.000000\n",
       "mean    0.811754   3.185088  13.073158  49.560000   5.373158  52.618772\n",
       "std     0.177655   0.389052  12.186774  15.844723   1.325458  13.458622\n",
       "min     0.500000   1.830000   2.170000  20.890000   3.020000  24.080000\n",
       "25%     0.670000   3.000000   6.820000  38.140000   4.540000  44.800000\n",
       "50%     0.790000   3.190000   9.860000  49.370000   5.100000  55.510000\n",
       "75%     0.920000   3.370000  15.080000  60.850000   6.130000  61.090000\n",
       "max     1.320000   4.500000  62.530000  87.380000   9.140000  83.660000"
      ]
     },
     "execution_count": 12,
     "metadata": {},
     "output_type": "execute_result"
    }
   ],
   "source": [
    "# 1.1 Examine the data\n",
    "trips_data_df.describe()"
   ]
  },
  {
   "cell_type": "code",
   "execution_count": 10,
   "metadata": {},
   "outputs": [
    {
     "data": {
      "text/plain": [
       "0.37481225775731203"
      ]
     },
     "execution_count": 10,
     "metadata": {},
     "output_type": "execute_result"
    }
   ],
   "source": [
    "# validate that AHS not correlated with TODU\n",
    "trips_data_df['AHS'].corr(trips_data_dfps_data_df['TODU'])"
   ]
  },
  {
   "cell_type": "code",
   "execution_count": 23,
   "metadata": {},
   "outputs": [
    {
     "name": "stdout",
     "output_type": "stream",
     "text": [
      "                            OLS Regression Results                            \n",
      "==============================================================================\n",
      "Dep. Variable:                   TODU   R-squared:                       0.704\n",
      "Model:                            OLS   Adj. R-squared:                  0.675\n",
      "Method:                 Least Squares   F-statistic:                     24.28\n",
      "Date:                Sat, 02 Mar 2019   Prob (F-statistic):           2.04e-12\n",
      "Time:                        14:55:56   Log-Likelihood:                -61.720\n",
      "No. Observations:                  57   AIC:                             135.4\n",
      "Df Residuals:                      51   BIC:                             147.7\n",
      "Df Model:                           5                                         \n",
      "Covariance Type:            nonrobust                                         \n",
      "==============================================================================\n",
      "                 coef    std err          t      P>|t|      [0.025      0.975]\n",
      "------------------------------------------------------------------------------\n",
      "const          2.8174      2.208      1.276      0.208      -1.616       7.251\n",
      "ACO            3.6467      0.957      3.813      0.000       1.726       5.567\n",
      "AHS            0.3237      0.412      0.785      0.436      -0.504       1.151\n",
      "SI             0.0053      0.009      0.574      0.569      -0.013       0.024\n",
      "SRI            0.0081      0.009      0.924      0.360      -0.010       0.026\n",
      "UI            -0.0363      0.013     -2.720      0.009      -0.063      -0.010\n",
      "==============================================================================\n",
      "Omnibus:                        4.558   Durbin-Watson:                   1.598\n",
      "Prob(Omnibus):                  0.102   Jarque-Bera (JB):                3.583\n",
      "Skew:                           0.572   Prob(JB):                        0.167\n",
      "Kurtosis:                       3.445   Cond. No.                     1.71e+03\n",
      "==============================================================================\n",
      "\n",
      "Warnings:\n",
      "[1] Standard Errors assume that the covariance matrix of the errors is correctly specified.\n",
      "[2] The condition number is large, 1.71e+03. This might indicate that there are\n",
      "strong multicollinearity or other numerical problems.\n"
     ]
    }
   ],
   "source": [
    "# 1.2. Estimate the model to predict the average trips per occupied dwelling unit to reflect the hypotheses. \n",
    "import statsmodels.api as sm\n",
    "\n",
    "# Estimate simple prelimary OLS model:\n",
    "# (a) TODU = constant + B1*ACO + B2*AHS + B3*SRI + B4*UI + B5*SI\n",
    "# Where B1, B2, B3, B4, B5 are coefficients.\n",
    "Y = trips_data_df['TODU']\n",
    "X = trips_data_df[['ACO', 'AHS', 'SI', 'SRI', 'UI']]\n",
    "X = sm.add_constant(X)\n",
    "linear_model = sm.OLS(Y,X)\n",
    "linear_model_results = linear_model.fit()\n",
    "print(linear_model_results.summary())"
   ]
  },
  {
   "cell_type": "code",
   "execution_count": 24,
   "metadata": {},
   "outputs": [
    {
     "name": "stdout",
     "output_type": "stream",
     "text": [
      "                            OLS Regression Results                            \n",
      "==============================================================================\n",
      "Dep. Variable:                   TODU   R-squared:                       0.697\n",
      "Model:                            OLS   Adj. R-squared:                  0.680\n",
      "Method:                 Least Squares   F-statistic:                     40.68\n",
      "Date:                Sat, 02 Mar 2019   Prob (F-statistic):           8.83e-14\n",
      "Time:                        15:24:52   Log-Likelihood:                -62.387\n",
      "No. Observations:                  57   AIC:                             132.8\n",
      "Df Residuals:                      53   BIC:                             140.9\n",
      "Df Model:                           3                                         \n",
      "Covariance Type:            nonrobust                                         \n",
      "==============================================================================\n",
      "                 coef    std err          t      P>|t|      [0.025      0.975]\n",
      "------------------------------------------------------------------------------\n",
      "const          4.5462      1.147      3.962      0.000       2.245       6.848\n",
      "ACO            3.4880      0.913      3.820      0.000       1.657       5.320\n",
      "SRI            0.0039      0.007      0.549      0.585      -0.010       0.018\n",
      "UI            -0.0418      0.011     -3.656      0.001      -0.065      -0.019\n",
      "==============================================================================\n",
      "Omnibus:                        6.755   Durbin-Watson:                   1.603\n",
      "Prob(Omnibus):                  0.034   Jarque-Bera (JB):                5.820\n",
      "Skew:                           0.727   Prob(JB):                       0.0545\n",
      "Kurtosis:                       3.582   Cond. No.                     1.06e+03\n",
      "==============================================================================\n",
      "\n",
      "Warnings:\n",
      "[1] Standard Errors assume that the covariance matrix of the errors is correctly specified.\n",
      "[2] The condition number is large, 1.06e+03. This might indicate that there are\n",
      "strong multicollinearity or other numerical problems.\n"
     ]
    }
   ],
   "source": [
    "# Estimate model (b)\n",
    "# (b) TODU = constant + B1*ACO + B2*SRI + B3*UI\n",
    "# In model (b), the AHS and SI independent variables are removed because their t values showed them to be insignificant.  The model is again a simple linear model.\n",
    "Y = trips_data_df['TODU']\n",
    "X = trips_data_df[['ACO', 'SRI', 'UI']]\n",
    "X = sm.add_constant(X)\n",
    "linear_model = sm.OLS(Y,X)\n",
    "linear_model_results = linear_model.fit()\n",
    "print(linear_model_results.summary())"
   ]
  },
  {
   "cell_type": "code",
   "execution_count": 29,
   "metadata": {},
   "outputs": [
    {
     "name": "stdout",
     "output_type": "stream",
     "text": [
      "                            OLS Regression Results                            \n",
      "==============================================================================\n",
      "Dep. Variable:                   TODU   R-squared:                       0.705\n",
      "Model:                            OLS   Adj. R-squared:                  0.677\n",
      "Method:                 Least Squares   F-statistic:                     24.43\n",
      "Date:                Sat, 02 Mar 2019   Prob (F-statistic):           1.83e-12\n",
      "Time:                        15:30:10   Log-Likelihood:                -61.599\n",
      "No. Observations:                  57   AIC:                             135.2\n",
      "Df Residuals:                      51   BIC:                             147.5\n",
      "Df Model:                           5                                         \n",
      "Covariance Type:            nonrobust                                         \n",
      "==============================================================================\n",
      "                 coef    std err          t      P>|t|      [0.025      0.975]\n",
      "------------------------------------------------------------------------------\n",
      "const          6.2921      1.966      3.200      0.002       2.344      10.240\n",
      "ACO            2.9409      0.764      3.849      0.000       1.407       4.475\n",
      "AHS            0.3493      0.411      0.850      0.399      -0.476       1.174\n",
      "SI             0.0072      0.009      0.767      0.447      -0.012       0.026\n",
      "SRI            0.0101      0.009      1.172      0.247      -0.007       0.027\n",
      "UI            -0.0369      0.013     -2.805      0.007      -0.063      -0.010\n",
      "==============================================================================\n",
      "Omnibus:                        4.862   Durbin-Watson:                   1.569\n",
      "Prob(Omnibus):                  0.088   Jarque-Bera (JB):                3.846\n",
      "Skew:                           0.580   Prob(JB):                        0.146\n",
      "Kurtosis:                       3.525   Cond. No.                     1.51e+03\n",
      "==============================================================================\n",
      "\n",
      "Warnings:\n",
      "[1] Standard Errors assume that the covariance matrix of the errors is correctly specified.\n",
      "[2] The condition number is large, 1.51e+03. This might indicate that there are\n",
      "strong multicollinearity or other numerical problems.\n"
     ]
    },
    {
     "name": "stderr",
     "output_type": "stream",
     "text": [
      "/anaconda3/lib/python3.7/site-packages/ipykernel_launcher.py:10: SettingWithCopyWarning: \n",
      "A value is trying to be set on a copy of a slice from a DataFrame.\n",
      "Try using .loc[row_indexer,col_indexer] = value instead\n",
      "\n",
      "See the caveats in the documentation: http://pandas.pydata.org/pandas-docs/stable/indexing.html#indexing-view-versus-copy\n",
      "  # Remove the CWD from sys.path while we load stuff.\n"
     ]
    }
   ],
   "source": [
    "# Estimate model (c)\n",
    "# (c) TODU = constant + B1*log(ACO) + B2*AHS + B3*SRI + B4*UI + B5*SI\n",
    "# In model (c) I take the log of ACO.\n",
    "# The reason I do this is because I think the marginal effect of having an additional\n",
    "# car decreases as the number of cars in a household increases.\n",
    "# I reason that having 1 car versus no cars increases the number of vehicular \n",
    "# trips much more than the difference between having 2 and 3 cars for a household.\n",
    "Y = trips_data_df['TODU']\n",
    "X = trips_data_df[['ACO', 'AHS', 'SI', 'SRI', 'UI']]\n",
    "X['ACO'] = X['ACO'].apply(np.log)\n",
    "X = sm.add_constant(X)\n",
    "linear_model = sm.OLS(Y,X)\n",
    "linear_model_results = linear_model.fit()\n",
    "print(linear_model_results.summary())"
   ]
  },
  {
   "cell_type": "code",
   "execution_count": 63,
   "metadata": {},
   "outputs": [],
   "source": [
    "# 2 Simulation Exercise\n",
    "\n",
    "\n",
    "# Gumbel distributed random variable epsilon\n",
    "# epsilon ~ EV(eta, mu)\n",
    "# where eta is the mode\n",
    "\n",
    "# gamma as Euler's constant\n",
    "GAMMA = 0.5772\n",
    "\n",
    "def get_gumbel_mean(eta, mu):\n",
    "    return eta + (GAMMA/mu)\n",
    "\n",
    "\n",
    "def get_gumbel_variance(mu):\n",
    "    return (np.pi**2)/(6*(mu**2))\n",
    "\n",
    "\n",
    "def gumbel_CDF(epsilon, eta, mu):\n",
    "    assert mu > 0\n",
    "    return np.exp(-1*np.exp(-1*mu*(epsilon - eta)))\n",
    "\n",
    "\n",
    "def inverse_gumbel_CDF(cdf, eta, mu):\n",
    "    return eta - (1/mu)*(np.log(-1*np.log(cdf)))"
   ]
  },
  {
   "cell_type": "code",
   "execution_count": 81,
   "metadata": {},
   "outputs": [],
   "source": [
    "\"\"\"To simulate the gumbel distribution for random variable epsilon ~ EV(eta, mu),\n",
    "I used the  “inversion method”:\n",
    "I created the inverse function of the Gumbel distribution CDF.\n",
    "\n",
    "epsilon = eta - (1/mu)*log(-1*log(cdf)))\n",
    "\n",
    "I sampled from the uniform distribution over U(0, 1) and take the inverse CDF\n",
    "value of the sample value to get epsilon.\n",
    "\"\"\"\n",
    "import random\n",
    "\n",
    "def sample_gumbel_distribution(N, eta, mu):\n",
    "    epsilon_values = []\n",
    "    for i in range(N):\n",
    "        cdf_value = random.uniform(0,1)\n",
    "        epsilon_value = inverse_gumbel_CDF(cdf_value, eta, mu)\n",
    "        epsilon_values.append(epsilon_value)\n",
    "    return epsilon_values"
   ]
  },
  {
   "cell_type": "code",
   "execution_count": 91,
   "metadata": {},
   "outputs": [
    {
     "name": "stdout",
     "output_type": "stream",
     "text": [
      "expected mean: 3.481\n",
      "expected variance: 1.1423153242001571\n"
     ]
    }
   ],
   "source": [
    "\"\"\"2.a\n",
    "\n",
    "Assume that eta = 3 and mu = 1.2.\n",
    "Simulate a Gumbel distribution, estimate the mode, mean and variance\n",
    "and check if they match the stated properties of the distribution.\n",
    "Plot a histogram of epsilon.\n",
    "\n",
    "I simulated a sample quantity of N = 100, 1000, 5,000, 10,000,\n",
    "and checked the mode, mean, and variance for each sample.\n",
    "\"\"\"\n",
    "\n",
    "import matplotlib.pyplot as plt\n",
    "import numpy as np\n",
    "%matplotlib inline\n",
    "\n",
    "eta = 3\n",
    "mu = 1.2\n",
    "\n",
    "expected_mean = get_gumbel_mean(eta, mu)\n",
    "expected_variance = get_gumbel_variance(mu)\n",
    "print('expected mean:', expected_mean)\n",
    "print('expected variance:', expected_variance)"
   ]
  },
  {
   "cell_type": "code",
   "execution_count": 95,
   "metadata": {},
   "outputs": [
    {
     "name": "stdout",
     "output_type": "stream",
     "text": [
      "N = 100\n",
      "sample mean: 3.5319176200718574\n",
      "sample variance: 1.0867658544527965\n"
     ]
    },
    {
     "data": {
      "text/plain": [
       "(array([2., 2., 0., 1., 4., 6., 1., 5., 5., 1., 9., 4., 5., 5., 3., 3., 4.,\n",
       "        6., 3., 1., 2., 2., 4., 1., 3., 4., 2., 0., 0., 2., 2., 1., 1., 0.,\n",
       "        0., 0., 2., 1., 0., 0., 1., 0., 0., 0., 0., 0., 1., 0., 0., 1.]),\n",
       " array([1.83153439, 1.93664166, 2.04174893, 2.1468562 , 2.25196347,\n",
       "        2.35707073, 2.462178  , 2.56728527, 2.67239254, 2.77749981,\n",
       "        2.88260708, 2.98771434, 3.09282161, 3.19792888, 3.30303615,\n",
       "        3.40814342, 3.51325068, 3.61835795, 3.72346522, 3.82857249,\n",
       "        3.93367976, 4.03878703, 4.14389429, 4.24900156, 4.35410883,\n",
       "        4.4592161 , 4.56432337, 4.66943064, 4.7745379 , 4.87964517,\n",
       "        4.98475244, 5.08985971, 5.19496698, 5.30007425, 5.40518151,\n",
       "        5.51028878, 5.61539605, 5.72050332, 5.82561059, 5.93071785,\n",
       "        6.03582512, 6.14093239, 6.24603966, 6.35114693, 6.4562542 ,\n",
       "        6.56136146, 6.66646873, 6.771576  , 6.87668327, 6.98179054,\n",
       "        7.08689781]),\n",
       " <a list of 50 Patch objects>)"
      ]
     },
     "execution_count": 95,
     "metadata": {},
     "output_type": "execute_result"
    },
    {
     "data": {
      "image/png": "[encoded data removed]",
      "text/plain": [
       "<Figure size 432x288 with 1 Axes>"
      ]
     },
     "metadata": {
      "needs_background": "light"
     },
     "output_type": "display_data"
    }
   ],
   "source": [
    "N = 100\n",
    "epsilon_values = sample_gumbel_distribution(N, eta, mu)\n",
    "print('N =', N)\n",
    "print('sample mean:',np.mean(epsilon_values))\n",
    "print('sample variance:', np.var(epsilon_values))\n",
    "plt.hist(epsilon_values, bins=50)"
   ]
  },
  {
   "cell_type": "code",
   "execution_count": 96,
   "metadata": {},
   "outputs": [
    {
     "name": "stdout",
     "output_type": "stream",
     "text": [
      "N = 1000\n",
      "sample mean: 3.4894435150056977\n",
      "sample variance: 1.1366380686258852\n"
     ]
    },
    {
     "data": {
      "text/plain": [
       "(array([ 3.,  7., 15., 24., 50., 52., 64., 69., 86., 86., 78., 60., 74.,\n",
       "        58., 47., 39., 34., 32., 20., 16., 17., 12., 16.,  5.,  5.,  9.,\n",
       "         8.,  2.,  3.,  2.,  3.,  1.,  0.,  1.,  0.,  1.,  0.,  0.,  0.,\n",
       "         0.,  0.,  0.,  0.,  0.,  0.,  0.,  0.,  0.,  0.,  1.]),\n",
       " array([ 1.35050548,  1.53594441,  1.72138333,  1.90682225,  2.09226117,\n",
       "         2.27770009,  2.46313901,  2.64857794,  2.83401686,  3.01945578,\n",
       "         3.2048947 ,  3.39033362,  3.57577254,  3.76121147,  3.94665039,\n",
       "         4.13208931,  4.31752823,  4.50296715,  4.68840607,  4.873845  ,\n",
       "         5.05928392,  5.24472284,  5.43016176,  5.61560068,  5.8010396 ,\n",
       "         5.98647853,  6.17191745,  6.35735637,  6.54279529,  6.72823421,\n",
       "         6.91367313,  7.09911206,  7.28455098,  7.4699899 ,  7.65542882,\n",
       "         7.84086774,  8.02630666,  8.21174559,  8.39718451,  8.58262343,\n",
       "         8.76806235,  8.95350127,  9.13894019,  9.32437912,  9.50981804,\n",
       "         9.69525696,  9.88069588, 10.0661348 , 10.25157372, 10.43701265,\n",
       "        10.62245157]),\n",
       " <a list of 50 Patch objects>)"
      ]
     },
     "execution_count": 96,
     "metadata": {},
     "output_type": "execute_result"
    },
    {
     "data": {
      "image/png": "[encoded data removed]",
      "text/plain": [
       "<Figure size 432x288 with 1 Axes>"
      ]
     },
     "metadata": {
      "needs_background": "light"
     },
     "output_type": "display_data"
    }
   ],
   "source": [
    "N = 1000\n",
    "epsilon_values = sample_gumbel_distribution(N, eta, mu)\n",
    "print('N =', N)\n",
    "print('sample mean:',np.mean(epsilon_values))\n",
    "print('sample variance:', np.var(epsilon_values))\n",
    "plt.hist(epsilon_values, bins=50)"
   ]
  },
  {
   "cell_type": "code",
   "execution_count": 99,
   "metadata": {},
   "outputs": [
    {
     "name": "stdout",
     "output_type": "stream",
     "text": [
      "N = 5000\n",
      "sample mean: 3.483450219300262\n",
      "sample variance: 1.1649363263803423\n"
     ]
    },
    {
     "data": {
      "text/plain": [
       "(array([  7.,  13.,  48.,  88., 136., 238., 275., 357., 375., 417., 395.,\n",
       "        367., 343., 327., 269., 274., 201., 170., 128., 106.,  85.,  67.,\n",
       "         64.,  46.,  49.,  30.,  26.,  13.,  18.,  16.,  12.,   5.,   6.,\n",
       "          3.,   6.,   4.,   3.,   2.,   2.,   3.,   1.,   0.,   1.,   1.,\n",
       "          0.,   2.,   0.,   0.,   0.,   1.]),\n",
       " array([ 1.17762008,  1.36519708,  1.55277408,  1.74035108,  1.92792808,\n",
       "         2.11550508,  2.30308209,  2.49065909,  2.67823609,  2.86581309,\n",
       "         3.05339009,  3.2409671 ,  3.4285441 ,  3.6161211 ,  3.8036981 ,\n",
       "         3.9912751 ,  4.1788521 ,  4.36642911,  4.55400611,  4.74158311,\n",
       "         4.92916011,  5.11673711,  5.30431411,  5.49189112,  5.67946812,\n",
       "         5.86704512,  6.05462212,  6.24219912,  6.42977613,  6.61735313,\n",
       "         6.80493013,  6.99250713,  7.18008413,  7.36766113,  7.55523814,\n",
       "         7.74281514,  7.93039214,  8.11796914,  8.30554614,  8.49312314,\n",
       "         8.68070015,  8.86827715,  9.05585415,  9.24343115,  9.43100815,\n",
       "         9.61858516,  9.80616216,  9.99373916, 10.18131616, 10.36889316,\n",
       "        10.55647016]),\n",
       " <a list of 50 Patch objects>)"
      ]
     },
     "execution_count": 99,
     "metadata": {},
     "output_type": "execute_result"
    },
    {
     "data": {
      "image/png": "[encoded data removed]",
      "text/plain": [
       "<Figure size 432x288 with 1 Axes>"
      ]
     },
     "metadata": {
      "needs_background": "light"
     },
     "output_type": "display_data"
    }
   ],
   "source": [
    "N = 5000\n",
    "epsilon_values = sample_gumbel_distribution(N, eta, mu)\n",
    "print('N =', N)\n",
    "print('sample mean:',np.mean(epsilon_values))\n",
    "print('sample variance:', np.var(epsilon_values))\n",
    "plt.hist(epsilon_values, bins=50)"
   ]
  },
  {
   "cell_type": "code",
   "execution_count": 97,
   "metadata": {},
   "outputs": [
    {
     "name": "stdout",
     "output_type": "stream",
     "text": [
      "N = 10000\n",
      "sample mean: 3.477867155193862\n",
      "sample variance: 1.1267257031972462\n"
     ]
    },
    {
     "data": {
      "text/plain": [
       "(array([  5.,  20.,  50., 147., 324., 483., 671., 774., 919., 867., 903.,\n",
       "        834., 702., 677., 482., 424., 350., 292., 251., 175., 142., 112.,\n",
       "         86.,  78.,  47.,  45.,  36.,  27.,  20.,  18.,  11.,   4.,   6.,\n",
       "          1.,   5.,   1.,   0.,   2.,   3.,   1.,   3.,   0.,   0.,   0.,\n",
       "          1.,   0.,   0.,   0.,   0.,   1.]),\n",
       " array([ 1.04522096,  1.25477894,  1.46433692,  1.67389491,  1.88345289,\n",
       "         2.09301087,  2.30256886,  2.51212684,  2.72168482,  2.9312428 ,\n",
       "         3.14080079,  3.35035877,  3.55991675,  3.76947474,  3.97903272,\n",
       "         4.1885907 ,  4.39814869,  4.60770667,  4.81726465,  5.02682264,\n",
       "         5.23638062,  5.4459386 ,  5.65549659,  5.86505457,  6.07461255,\n",
       "         6.28417054,  6.49372852,  6.7032865 ,  6.91284448,  7.12240247,\n",
       "         7.33196045,  7.54151843,  7.75107642,  7.9606344 ,  8.17019238,\n",
       "         8.37975037,  8.58930835,  8.79886633,  9.00842432,  9.2179823 ,\n",
       "         9.42754028,  9.63709827,  9.84665625, 10.05621423, 10.26577222,\n",
       "        10.4753302 , 10.68488818, 10.89444616, 11.10400415, 11.31356213,\n",
       "        11.52312011]),\n",
       " <a list of 50 Patch objects>)"
      ]
     },
     "execution_count": 97,
     "metadata": {},
     "output_type": "execute_result"
    },
    {
     "data": {
      "image/png": "[encoded data removed]",
      "text/plain": [
       "<Figure size 432x288 with 1 Axes>"
      ]
     },
     "metadata": {
      "needs_background": "light"
     },
     "output_type": "display_data"
    }
   ],
   "source": [
    "N = 10000\n",
    "epsilon_values = sample_gumbel_distribution(N, eta, mu)\n",
    "print('N =', N)\n",
    "print('sample mean:',np.mean(epsilon_values))\n",
    "print('sample variance:', np.var(epsilon_values))\n",
    "plt.hist(epsilon_values, bins=50)"
   ]
  },
  {
   "cell_type": "code",
   "execution_count": 113,
   "metadata": {},
   "outputs": [
    {
     "name": "stdout",
     "output_type": "stream",
     "text": [
      "eta: 6.155245300933243\n",
      "expected epsilon value: 6.6362453009332425\n",
      "expected variance: 1.1423153242001571\n",
      "N = 5000\n",
      "sample mean: 6.625514188759329\n",
      "sample variance: 1.1407649787033092\n"
     ]
    },
    {
     "data": {
      "text/plain": [
       "(array([  5.,  12.,  42., 101., 169., 278., 384., 486., 493., 467., 402.,\n",
       "        389., 361., 277., 229., 190., 147., 113., 110.,  85.,  59.,  48.,\n",
       "         34.,  38.,  21.,  11.,  10.,   9.,   7.,   5.,   5.,   1.,   2.,\n",
       "          3.,   1.,   1.,   1.,   1.,   1.,   0.,   0.,   0.,   1.,   0.,\n",
       "          0.,   0.,   0.,   0.,   0.,   1.]),\n",
       " array([ 4.23437386,  4.45167257,  4.66897129,  4.88627001,  5.10356872,\n",
       "         5.32086744,  5.53816615,  5.75546487,  5.97276359,  6.1900623 ,\n",
       "         6.40736102,  6.62465974,  6.84195845,  7.05925717,  7.27655588,\n",
       "         7.4938546 ,  7.71115332,  7.92845203,  8.14575075,  8.36304946,\n",
       "         8.58034818,  8.7976469 ,  9.01494561,  9.23224433,  9.44954305,\n",
       "         9.66684176,  9.88414048, 10.10143919, 10.31873791, 10.53603663,\n",
       "        10.75333534, 10.97063406, 11.18793277, 11.40523149, 11.62253021,\n",
       "        11.83982892, 12.05712764, 12.27442636, 12.49172507, 12.70902379,\n",
       "        12.9263225 , 13.14362122, 13.36091994, 13.57821865, 13.79551737,\n",
       "        14.01281608, 14.2301148 , 14.44741352, 14.66471223, 14.88201095,\n",
       "        15.09930966]),\n",
       " <a list of 50 Patch objects>)"
      ]
     },
     "execution_count": 113,
     "metadata": {},
     "output_type": "execute_result"
    },
    {
     "data": {
      "image/png": "[encoded data removed]",
      "text/plain": [
       "<Figure size 432x288 with 1 Axes>"
      ]
     },
     "metadata": {
      "needs_background": "light"
     },
     "output_type": "display_data"
    }
   ],
   "source": [
    "\"\"\"2.b\n",
    "\n",
    "Let eta_j = 5 for all j, mu = 1.2\n",
    "\n",
    "I simulate the Gumbel distributions for J = 4 and check if the \n",
    "expected value and the variance of the simulated distributions match the \n",
    "stated properties of the distribution.\n",
    "\n",
    "\"\"\"\n",
    "\n",
    "def get_eta_from_eta_j_list(eta_j_list):\n",
    "    return (1/mu)*np.log(sum([np.exp(mu*eta_j) for eta_j in eta_j_list]))\n",
    "\n",
    "\n",
    "mu = 1.2\n",
    "J = 4\n",
    "\n",
    "eta_j_list = [5 for i in range(J)]\n",
    "\n",
    "eta = get_eta_from_eta_j_list(eta_j_list)\n",
    "expected_epsilon_value = get_gumbel_mean(eta, mu)\n",
    "expected_variance = get_gumbel_variance(mu)\n",
    "\n",
    "print('eta:', eta)\n",
    "print('expected epsilon value:', expected_epsilon_value)\n",
    "print('expected variance:', expected_variance)\n",
    "\n",
    "\n",
    "def get_epsilon_j_values_list(N, eta_j_list, mu):\n",
    "    \"\"\"Returns a list of episilon values lists:\n",
    "        The jth list is a sample of N epsilon values drawn from the\n",
    "        epsilon ~ EV(eta_j, mu) Gumbel distribution\n",
    "        where eta_j is the jth value in the eta_j_list.\n",
    "    \"\"\"\n",
    "    epsilon_j_values_list = []\n",
    "    for eta_j in eta_j_list:\n",
    "        epsilon_j_values = sample_gumbel_distribution(N, eta_j, mu)\n",
    "        epsilon_j_values_list.append(epsilon_j_values)\n",
    "    return epsilon_j_values_list\n",
    "\n",
    "\n",
    "N = 5000\n",
    "epsilon_j_values_list = get_epsilon_j_values_list(N, eta_j_list, mu)\n",
    "\n",
    "epsilon_values = []\n",
    "for i in range(N):\n",
    "    epsilon = max([epsilon_j_values_list[j][i] for j in range(J)])\n",
    "    epsilon_values.append(epsilon)\n",
    "\n",
    "print('N =', N)\n",
    "print('sample mean:', np.mean(epsilon_values))\n",
    "print('sample variance:', np.var(epsilon_values))\n",
    "plt.hist(epsilon_values, bins=50)\n"
   ]
  },
  {
   "cell_type": "code",
   "execution_count": 115,
   "metadata": {},
   "outputs": [
    {
     "name": "stdout",
     "output_type": "stream",
     "text": [
      "calculated eta: 9.068991732689653\n",
      "expected epsilon value: 9.549991732689653\n",
      "expected variance: 1.1423153242001571\n",
      "N = 5000\n",
      "sample mean: 9.548922516626178\n",
      "sample variance: 1.1417755628400361\n"
     ]
    },
    {
     "data": {
      "text/plain": [
       "(array([  2.,   1.,  11.,  44.,  85., 166., 264., 361., 417., 438., 392.,\n",
       "        425., 366., 372., 322., 250., 213., 178., 154., 100.,  89.,  88.,\n",
       "         48.,  44.,  40.,  29.,  21.,  15.,  13.,  10.,   7.,   8.,   7.,\n",
       "          3.,   2.,   1.,   3.,   2.,   2.,   3.,   0.,   0.,   0.,   1.,\n",
       "          0.,   0.,   2.,   0.,   0.,   1.]),\n",
       " array([ 7.01928662,  7.22060916,  7.4219317 ,  7.62325425,  7.82457679,\n",
       "         8.02589933,  8.22722187,  8.42854441,  8.62986695,  8.8311895 ,\n",
       "         9.03251204,  9.23383458,  9.43515712,  9.63647966,  9.83780221,\n",
       "        10.03912475, 10.24044729, 10.44176983, 10.64309237, 10.84441491,\n",
       "        11.04573746, 11.24706   , 11.44838254, 11.64970508, 11.85102762,\n",
       "        12.05235016, 12.25367271, 12.45499525, 12.65631779, 12.85764033,\n",
       "        13.05896287, 13.26028541, 13.46160796, 13.6629305 , 13.86425304,\n",
       "        14.06557558, 14.26689812, 14.46822066, 14.66954321, 14.87086575,\n",
       "        15.07218829, 15.27351083, 15.47483337, 15.67615591, 15.87747846,\n",
       "        16.078801  , 16.28012354, 16.48144608, 16.68276862, 16.88409116,\n",
       "        17.08541371]),\n",
       " <a list of 50 Patch objects>)"
      ]
     },
     "execution_count": 115,
     "metadata": {},
     "output_type": "execute_result"
    },
    {
     "data": {
      "image/png": "[encoded data removed]",
      "text/plain": [
       "<Figure size 432x288 with 1 Axes>"
      ]
     },
     "metadata": {
      "needs_background": "light"
     },
     "output_type": "display_data"
    }
   ],
   "source": [
    "\"\"\"2.c\n",
    "Now assume that eta_1 = 8, eta_2 = 8.2, eta_3 = 7.5, eta_4 = 7.8, and eta_5 = 1.2.\n",
    "Show that the simulation results match the stated properties of the distribution.\n",
    "Plot a histogram of epsilon.\n",
    "\"\"\"\n",
    "mu = 1.2\n",
    "eta_j_list = [8.0, 8.2, 7.5, 7.8]\n",
    "\n",
    "eta = get_eta_from_eta_j_list(eta_j_list)\n",
    "expected_epsilon_value = get_gumbel_mean(eta, mu)\n",
    "expected_variance = get_gumbel_variance(mu)\n",
    "\n",
    "print('calculated eta:', eta)\n",
    "print('expected epsilon value:', expected_epsilon_value)\n",
    "print('expected variance:', expected_variance)\n",
    "\n",
    "N = 5000\n",
    "epsilon_j_values_list = get_epsilon_j_values_list(N, eta_j_list, mu)\n",
    "\n",
    "epsilon_values = []\n",
    "for i in range(N):\n",
    "    epsilon = max([epsilon_j_values_list[j][i] for j in range(J)])\n",
    "    epsilon_values.append(epsilon)\n",
    "\n",
    "print('N =', N)\n",
    "print('sample mean:', np.mean(epsilon_values))\n",
    "print('sample variance:', np.var(epsilon_values))\n",
    "plt.hist(epsilon_values, bins=50)"
   ]
  }
 ],
 "metadata": {
  "kernelspec": {
   "display_name": "Python 3",
   "language": "python",
   "name": "python3"
  },
  "language_info": {
   "codemirror_mode": {
    "name": "ipython",
    "version": 3
   },
   "file_extension": ".py",
   "mimetype": "text/x-python",
   "name": "python",
   "nbconvert_exporter": "python",
   "pygments_lexer": "ipython3",
   "version": "3.7.1"
  }
 },
 "nbformat": 4,
 "nbformat_minor": 2
}
