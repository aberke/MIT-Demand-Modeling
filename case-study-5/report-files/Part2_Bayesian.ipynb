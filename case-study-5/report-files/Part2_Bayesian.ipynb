{
 "cells": [
  {
   "cell_type": "markdown",
   "metadata": {},
   "source": [
    "# Case Study 5: Part 2:  Bayesian Estimation\n",
    "\n",
    "Demand Modeling: 1.202  \n",
    "Spring 2019  \n",
    "Alexandra Berke"
   ]
  },
  {
   "cell_type": "code",
   "execution_count": 1,
   "metadata": {},
   "outputs": [],
   "source": [
    "import numpy as np\n",
    "import pandas as pd\n",
    "import random\n",
    "\n",
    "from mxlMcmc import estimate,test\n",
    "\n",
    "import h5py\n",
    "\n",
    "import matplotlib\n",
    "import matplotlib.pyplot as plt\n",
    "from math import floor"
   ]
  },
  {
   "cell_type": "markdown",
   "metadata": {},
   "source": [
    "# Prepare data"
   ]
  },
  {
   "cell_type": "code",
   "execution_count": 14,
   "metadata": {},
   "outputs": [
    {
     "name": "stdout",
     "output_type": "stream",
     "text": [
      "shape of data: (19143, 20)\n"
     ]
    },
    {
     "data": {
      "text/html": [
       "<div>\n",
       "<style scoped>\n",
       "    .dataframe tbody tr th:only-of-type {\n",
       "        vertical-align: middle;\n",
       "    }\n",
       "\n",
       "    .dataframe tbody tr th {\n",
       "        vertical-align: top;\n",
       "    }\n",
       "\n",
       "    .dataframe thead th {\n",
       "        text-align: right;\n",
       "    }\n",
       "</style>\n",
       "<table border=\"1\" class=\"dataframe\">\n",
       "  <thead>\n",
       "    <tr style=\"text-align: right;\">\n",
       "      <th></th>\n",
       "      <th>AGE</th>\n",
       "      <th>AV</th>\n",
       "      <th>CO</th>\n",
       "      <th>DEST</th>\n",
       "      <th>FIRST</th>\n",
       "      <th>GA</th>\n",
       "      <th>HE</th>\n",
       "      <th>ID</th>\n",
       "      <th>INCOME</th>\n",
       "      <th>LUGGAGE</th>\n",
       "      <th>MALE</th>\n",
       "      <th>ORIGIN</th>\n",
       "      <th>PURPOSE</th>\n",
       "      <th>SEATS</th>\n",
       "      <th>TICKET</th>\n",
       "      <th>TT</th>\n",
       "      <th>WHO</th>\n",
       "      <th>altID</th>\n",
       "      <th>chosen</th>\n",
       "      <th>obsID</th>\n",
       "    </tr>\n",
       "  </thead>\n",
       "  <tbody>\n",
       "    <tr>\n",
       "      <th>0</th>\n",
       "      <td>3</td>\n",
       "      <td>1</td>\n",
       "      <td>48</td>\n",
       "      <td>1</td>\n",
       "      <td>0</td>\n",
       "      <td>0</td>\n",
       "      <td>120.0</td>\n",
       "      <td>1</td>\n",
       "      <td>2</td>\n",
       "      <td>0</td>\n",
       "      <td>0</td>\n",
       "      <td>2</td>\n",
       "      <td>1</td>\n",
       "      <td>0.0</td>\n",
       "      <td>1</td>\n",
       "      <td>112</td>\n",
       "      <td>1</td>\n",
       "      <td>1</td>\n",
       "      <td>0</td>\n",
       "      <td>0</td>\n",
       "    </tr>\n",
       "    <tr>\n",
       "      <th>1</th>\n",
       "      <td>3</td>\n",
       "      <td>1</td>\n",
       "      <td>52</td>\n",
       "      <td>1</td>\n",
       "      <td>0</td>\n",
       "      <td>0</td>\n",
       "      <td>20.0</td>\n",
       "      <td>1</td>\n",
       "      <td>2</td>\n",
       "      <td>0</td>\n",
       "      <td>0</td>\n",
       "      <td>2</td>\n",
       "      <td>1</td>\n",
       "      <td>0.0</td>\n",
       "      <td>1</td>\n",
       "      <td>63</td>\n",
       "      <td>1</td>\n",
       "      <td>2</td>\n",
       "      <td>1</td>\n",
       "      <td>0</td>\n",
       "    </tr>\n",
       "    <tr>\n",
       "      <th>2</th>\n",
       "      <td>3</td>\n",
       "      <td>1</td>\n",
       "      <td>65</td>\n",
       "      <td>1</td>\n",
       "      <td>0</td>\n",
       "      <td>0</td>\n",
       "      <td>0.0</td>\n",
       "      <td>1</td>\n",
       "      <td>2</td>\n",
       "      <td>0</td>\n",
       "      <td>0</td>\n",
       "      <td>2</td>\n",
       "      <td>1</td>\n",
       "      <td>0.0</td>\n",
       "      <td>1</td>\n",
       "      <td>117</td>\n",
       "      <td>1</td>\n",
       "      <td>3</td>\n",
       "      <td>0</td>\n",
       "      <td>0</td>\n",
       "    </tr>\n",
       "    <tr>\n",
       "      <th>3</th>\n",
       "      <td>3</td>\n",
       "      <td>1</td>\n",
       "      <td>48</td>\n",
       "      <td>1</td>\n",
       "      <td>0</td>\n",
       "      <td>0</td>\n",
       "      <td>30.0</td>\n",
       "      <td>1</td>\n",
       "      <td>2</td>\n",
       "      <td>0</td>\n",
       "      <td>0</td>\n",
       "      <td>2</td>\n",
       "      <td>1</td>\n",
       "      <td>0.0</td>\n",
       "      <td>1</td>\n",
       "      <td>103</td>\n",
       "      <td>1</td>\n",
       "      <td>1</td>\n",
       "      <td>0</td>\n",
       "      <td>1</td>\n",
       "    </tr>\n",
       "    <tr>\n",
       "      <th>4</th>\n",
       "      <td>3</td>\n",
       "      <td>1</td>\n",
       "      <td>49</td>\n",
       "      <td>1</td>\n",
       "      <td>0</td>\n",
       "      <td>0</td>\n",
       "      <td>10.0</td>\n",
       "      <td>1</td>\n",
       "      <td>2</td>\n",
       "      <td>0</td>\n",
       "      <td>0</td>\n",
       "      <td>2</td>\n",
       "      <td>1</td>\n",
       "      <td>0.0</td>\n",
       "      <td>1</td>\n",
       "      <td>60</td>\n",
       "      <td>1</td>\n",
       "      <td>2</td>\n",
       "      <td>1</td>\n",
       "      <td>1</td>\n",
       "    </tr>\n",
       "  </tbody>\n",
       "</table>\n",
       "</div>"
      ],
      "text/plain": [
       "   AGE  AV  CO  DEST  FIRST  GA     HE  ID  INCOME  LUGGAGE  MALE  ORIGIN  \\\n",
       "0    3   1  48     1      0   0  120.0   1       2        0     0       2   \n",
       "1    3   1  52     1      0   0   20.0   1       2        0     0       2   \n",
       "2    3   1  65     1      0   0    0.0   1       2        0     0       2   \n",
       "3    3   1  48     1      0   0   30.0   1       2        0     0       2   \n",
       "4    3   1  49     1      0   0   10.0   1       2        0     0       2   \n",
       "\n",
       "   PURPOSE  SEATS  TICKET   TT  WHO  altID  chosen  obsID  \n",
       "0        1    0.0       1  112    1      1       0      0  \n",
       "1        1    0.0       1   63    1      2       1      0  \n",
       "2        1    0.0       1  117    1      3       0      0  \n",
       "3        1    0.0       1  103    1      1       0      1  \n",
       "4        1    0.0       1   60    1      2       1      1  "
      ]
     },
     "execution_count": 14,
     "metadata": {},
     "output_type": "execute_result"
    }
   ],
   "source": [
    "# Load data\n",
    "data = pd.read_csv('swissmetro_long.csv')\n",
    "# Working with work trips only\n",
    "data = data[((data['PURPOSE'] != 1) & (data['PURPOSE'] != 3)) != True]\n",
    "print(\"shape of data:\", data.shape)\n",
    "data.head()"
   ]
  },
  {
   "cell_type": "markdown",
   "metadata": {},
   "source": [
    "Divide the data into training (first 8 choices) and test (last choice)"
   ]
  },
  {
   "cell_type": "code",
   "execution_count": 15,
   "metadata": {},
   "outputs": [
    {
     "name": "stdout",
     "output_type": "stream",
     "text": [
      "shape after dividing test data (8/9) vs training data (1/8): (17016, 20)\n"
     ]
    }
   ],
   "source": [
    "testdata = data[(data['obsID']+1) % 9 ==0]\n",
    "testdata.shape\n",
    "data = data[(data['obsID']+1) % 9 > 0]\n",
    "print(\"shape after dividing test data (8/9) vs training data (1/8):\", data.shape)"
   ]
  },
  {
   "cell_type": "markdown",
   "metadata": {},
   "source": [
    "Prepare the _training_ data and variables"
   ]
  },
  {
   "cell_type": "code",
   "execution_count": 19,
   "metadata": {},
   "outputs": [],
   "source": [
    "indID = np.array(data['ID'].values, dtype = 'int64').reshape((-1,1))\n",
    "obsID = np.array(data['obsID'].values, dtype = 'int64').reshape((-1,1))\n",
    "altID = np.array(data['altID'].values, dtype = 'int64').reshape((-1,1))\n",
    "\n",
    "chosen = np.array(data['chosen'].values, dtype = 'int64')\n",
    "\n",
    "tt = np.array(data['TT'].values, dtype = 'float64').reshape((-1,1)) / 1\n",
    "cost = np.array(data['CO'].values, dtype = 'float64').reshape((-1,1)) / 1\n",
    "he = np.array(data['HE'].values, dtype = 'float64').reshape((-1,1)) / 1\n",
    "ga = np.array(data['GA'].values, dtype = 'int64').reshape((-1,1))\n",
    "cost[(altID[:,0] <= 2) & (ga[:,0] == 1),0] = 0\n",
    "\n",
    "const2 = 1 * (altID == 2)\n",
    "const3 = 1 * (altID == 3)"
   ]
  },
  {
   "cell_type": "markdown",
   "metadata": {},
   "source": [
    "Prepare the _test_ data and variables (just once!)"
   ]
  },
  {
   "cell_type": "code",
   "execution_count": 21,
   "metadata": {},
   "outputs": [],
   "source": [
    "testindID = np.array(testdata['ID'].values, dtype = 'int64').reshape((-1,1))\n",
    "testobsID = np.array(testdata['obsID'].values, dtype = 'int64').reshape((-1,1))\n",
    "testaltID = np.array(testdata['altID'].values, dtype = 'int64').reshape((-1,1))\n",
    "\n",
    "testchosen = np.array(testdata['chosen'].values, dtype = 'int64')\n",
    "\n",
    "testtt = np.array(testdata['TT'].values, dtype = 'float64').reshape((-1,1)) / 1\n",
    "testcost = np.array(testdata['CO'].values, dtype = 'float64').reshape((-1,1)) / 1\n",
    "testhe = np.array(testdata['HE'].values, dtype = 'float64').reshape((-1,1)) / 1\n",
    "testga = np.array(testdata['GA'].values, dtype = 'int64').reshape((-1,1))\n",
    "testcost[(testaltID[:,0] <= 2) & (testga[:,0] == 1),0] = 0\n",
    "\n",
    "testconst2 = 1 * (testaltID == 2)\n",
    "testconst3 = 1 * (testaltID == 3)"
   ]
  },
  {
   "cell_type": "markdown",
   "metadata": {},
   "source": [
    "# 0. (MNL) Multinomial logit\n",
    "\n",
    "This model is the same as specified in the handout.\n",
    "\n",
    "- V_car = ASC_car + BETA_time * TIME_car + BETA_cost * COST_car\n",
    "- V_SM = ASC_SM + BETA_time * TIME_SM + BETA_cost * COST_SM\n",
    "- V_train = BETA_time*TIME_train + BETA_cost * COST_train"
   ]
  },
  {
   "cell_type": "code",
   "execution_count": 17,
   "metadata": {},
   "outputs": [
    {
     "name": "stdout",
     "output_type": "stream",
     "text": [
      " \n",
      "Computation time [s]: 13.232194900512695\n",
      " \n",
      "Fixed parameters:\n",
      "       mean  std. dev.      2.5%     97.5%      Rhat\n",
      "0  0.766398   0.058094  0.651846  0.881184  1.006574\n",
      "1  0.602931   0.048624  0.507730  0.699931  1.009486\n",
      "2 -1.067394   0.054099 -1.175383 -0.962256  1.007610\n",
      "3 -1.261752   0.059792 -1.382350 -1.148355  1.006176\n",
      " \n",
      "Log-likelihood (simulated at posterior means): -4683.345666756498\n"
     ]
    }
   ],
   "source": [
    "xFix = np.hstack((const2, const3, cost / 100, tt / 100))\n",
    "xRnd = np.zeros((0, 0))\n",
    "\n",
    "#Fixed parameter distributions\n",
    "#0: normal\n",
    "#1: log-normal (to assure that fixed parameter is striclty negative or positive)\n",
    "xFix_trans = np.array([0, 0, 0, 0])\n",
    "\n",
    "#Random parameter distributions\n",
    "#0: normal\n",
    "#1: log-normal\n",
    "#2: S_B\n",
    "xRnd_trans = np.array([0, 0, 0])\n",
    "\n",
    "paramFix_inits = np.zeros((xFix.shape[1],))\n",
    "zeta_inits = np.zeros((xRnd.shape[1],))\n",
    "Omega_inits = 0.1 * np.eye(xRnd.shape[1])\n",
    "\n",
    "A = 1.04\n",
    "nu = 2\n",
    "diagCov = True\n",
    "\n",
    "mcmc_nChain = 2\n",
    "mcmc_iterBurn = 20000\n",
    "mcmc_iterSample = 20000\n",
    "mcmc_thin = 5\n",
    "mcmc_iterMem = 20000\n",
    "mcmc_disp = 1000\n",
    "seed = 4711\n",
    "simDraws = 10000\n",
    "\n",
    "rho = 0.1\n",
    "rhoF = 0.01\n",
    "\n",
    "modelName = 'model'\n",
    "deleteDraws = False\n",
    "\n",
    "results = estimate(\n",
    "        mcmc_nChain, mcmc_iterBurn, mcmc_iterSample, mcmc_thin, mcmc_iterMem, mcmc_disp, \n",
    "        seed, simDraws,\n",
    "        rhoF, rho,\n",
    "        modelName, deleteDraws,\n",
    "        A, nu, diagCov,\n",
    "        paramFix_inits, zeta_inits, Omega_inits,\n",
    "        indID, obsID, altID, chosen,\n",
    "        xFix, xRnd,\n",
    "        xFix_trans, xRnd_trans)"
   ]
  },
  {
   "cell_type": "markdown",
   "metadata": {},
   "source": [
    "Test"
   ]
  },
  {
   "cell_type": "code",
   "execution_count": 23,
   "metadata": {},
   "outputs": [
    {
     "name": "stdout",
     "output_type": "stream",
     "text": [
      " \n",
      "Log-likelihood (simulated at posterior means): -649.1198278087231\n"
     ]
    },
    {
     "data": {
      "text/plain": [
       "{'unconditionalLogLik': -649.1198278087231,\n",
       " 'conditionalLogLik': -649.1198278087231,\n",
       " 'unconditionalChosenProb': 0.4974726597051809,\n",
       " 'conditionalChosenProb': 0.4974726597051809}"
      ]
     },
     "execution_count": 23,
     "metadata": {},
     "output_type": "execute_result"
    }
   ],
   "source": [
    "testxFix = np.hstack((testconst2, testconst3, testcost / 100, testtt / 100))\n",
    "testxRnd = np.zeros((0, 0))\n",
    "\n",
    "test(results,\n",
    "        seed, simDraws, testindID, testobsID, testaltID, testchosen,\n",
    "        testxFix, testxRnd,\n",
    "        xFix_trans, xRnd_trans)"
   ]
  },
  {
   "cell_type": "markdown",
   "metadata": {},
   "source": [
    "# 1. (MXL 1) \n",
    "This is a logit mixture model where cost and time are normally distributed random variables, with ASCs.\n",
    "This model is the same as that specified in Part 2 of the handout.\n",
    "\n",
    "- V_car = ASC_car + BETA_time * TIME_car + BETA_cost * COST_car\n",
    "- V_SM = ASC_SM + BETA_time * TIME_SM + BETA_cost * COST_SM\n",
    "- V_train = BETA_time*TIME_train + BETA_cost * COST_train\n",
    "\n",
    "Where BETA_time and BETA_cost are normally distributed random variables."
   ]
  },
  {
   "cell_type": "code",
   "execution_count": 24,
   "metadata": {
    "scrolled": true
   },
   "outputs": [
    {
     "name": "stdout",
     "output_type": "stream",
     "text": [
      " \n",
      "Computation time [s]: 80.26553225517273\n",
      " \n",
      "Fixed parameters:\n",
      "       mean  std. dev.      2.5%     97.5%      Rhat\n",
      "0  0.403494   0.104516  0.199164  0.611025  1.009599\n",
      "1  0.832593   0.089524  0.659136  1.006793  1.013095\n",
      " \n",
      "Random parameters (means):\n",
      "       mean  std. dev.      2.5%     97.5%      Rhat\n",
      "0 -0.406494   0.028875 -0.464803 -0.351088  1.008459\n",
      "1 -0.485257   0.026475 -0.537479 -0.434834  1.010140\n",
      " \n",
      "Random parameters (standard deviations):\n",
      "       mean  std. dev.      2.5%     97.5%      Rhat\n",
      "0  0.468416   0.031896  0.410759  0.534444  1.009343\n",
      "1  0.451258   0.023075  0.407650  0.497703  1.017810\n",
      " \n",
      "Random parameters (covariance matrix):\n",
      "       mean  std. dev.      2.5%     97.5%      Rhat\n",
      "0  0.220431   0.030116  0.168723  0.285631  1.009162\n",
      "1  0.000000   0.000000  0.000000  0.000000       NaN\n",
      "2  0.000000   0.000000  0.000000  0.000000       NaN\n",
      "3  0.204166   0.020923  0.166179  0.247708  1.018958\n",
      " \n",
      "Random parameters (correlation matrix):\n",
      "   mean  std. dev.  2.5%  97.5%  Rhat\n",
      "0   1.0        0.0   1.0    1.0   NaN\n",
      "1   0.0        0.0   0.0    0.0   NaN\n",
      "2   0.0        0.0   0.0    0.0   NaN\n",
      "3   1.0        0.0   1.0    1.0   NaN\n",
      " \n",
      "Log-likelihood (simulated at posterior means): -3474.5398446465333\n"
     ]
    }
   ],
   "source": [
    "xFix = np.hstack((const2, const3))\n",
    "xRnd = np.hstack((cost / 10, tt / 10)) \n",
    "\n",
    "\n",
    "#Fixed parameter distributions\n",
    "#0: sign unrestricted\n",
    "#1: striclty negative or positive\n",
    "xFix_trans = np.array([0, 0])\n",
    "\n",
    "#Random parameter distributions\n",
    "#0: normal\n",
    "#1: log-normal\n",
    "#2: S_B\n",
    "xRnd_trans = np.array([0, 0])   # if you set these to 1, you obtain the log-normal distribution.\n",
    "\n",
    "paramFix_inits = np.zeros((xFix.shape[1],))\n",
    "zeta_inits = np.zeros((xRnd.shape[1],))\n",
    "Omega_inits = 0.1 * np.eye(xRnd.shape[1])\n",
    "\n",
    "A = 1.04\n",
    "nu = 2\n",
    "diagCov = True\n",
    "\n",
    "mcmc_nChain = 2\n",
    "mcmc_iterBurn = 20000\n",
    "mcmc_iterSample = 20000\n",
    "mcmc_thin = 5\n",
    "mcmc_iterMem = 20000\n",
    "mcmc_disp = 1000\n",
    "seed = 4711\n",
    "simDraws = 10000\n",
    "\n",
    "rho = 0.1\n",
    "rhoF = 0.01\n",
    "\n",
    "modelName = 'model'\n",
    "deleteDraws = False\n",
    "\n",
    "results = estimate(\n",
    "        mcmc_nChain, mcmc_iterBurn, mcmc_iterSample, mcmc_thin, mcmc_iterMem, mcmc_disp, \n",
    "        seed, simDraws,\n",
    "        rhoF, rho,\n",
    "        modelName, deleteDraws,\n",
    "        A, nu, diagCov,\n",
    "        paramFix_inits, zeta_inits, Omega_inits,\n",
    "        indID, obsID, altID, chosen,\n",
    "       xFix, xRnd,\n",
    "        xFix_trans, xRnd_trans)"
   ]
  },
  {
   "cell_type": "markdown",
   "metadata": {},
   "source": [
    "A problem with using normally distributed random variables for the cost and time coefficients is that while we understand that these coefficients should always be negative, they are not guaranteed to be negative.  \n",
    "The probability that they have positive values can be computed from their estimated mean and standard deviation values.  The number of individual  specific coefficients with values greater than zero can also be counted directly from the posterior estimates obtained from the Gibbs sampler.\n",
    "\n",
    "The positive individual specific coefficients for cost and time are counted below"
   ]
  },
  {
   "cell_type": "code",
   "execution_count": 25,
   "metadata": {},
   "outputs": [
    {
     "name": "stdout",
     "output_type": "stream",
     "text": [
      "# estimated individual specific COST coefficients > 0:  90  Fraction:  0.1196808510638298\n",
      "Total estimated individual specific coefficients: 752\n",
      "# estimated individual specific TIME coefficients > 0:  89  Fraction:  0.11835106382978723\n"
     ]
    }
   ],
   "source": [
    "# Count individual specific coefficient values > 0 for cost and time\n",
    "# Cost: item 0 in results\n",
    "# Time: item 1 in results\n",
    "cost_coeffs_gt_zero_count = 0\n",
    "time_coeffs_gt_zero_count = 0\n",
    "\n",
    "results_df = pd.DataFrame(results['postMean_paramRnd'])\n",
    "for index, row in results_df.iterrows():\n",
    "    if (row[0] > 0):\n",
    "        cost_coeffs_gt_zero_count += 1\n",
    "    if (row[1] > 0):\n",
    "        time_coeffs_gt_zero_count += 1\n",
    "\n",
    "# How many??\n",
    "total_coeffs = results_df.shape[0] # 752\n",
    "print(\"Total estimated individual specific coefficients:\", total_coeffs)\n",
    "print(\"# estimated individual specific COST coefficients > 0: \", cost_coeffs_gt_zero_count, \" Fraction: \",  cost_coeffs_gt_zero_count/total_coeffs)\n",
    "print(\"# estimated individual specific TIME coefficients > 0: \", time_coeffs_gt_zero_count, \" Fraction: \",  time_coeffs_gt_zero_count/total_coeffs)"
   ]
  },
  {
   "cell_type": "markdown",
   "metadata": {},
   "source": [
    "Predictions on the test data"
   ]
  },
  {
   "cell_type": "code",
   "execution_count": 28,
   "metadata": {},
   "outputs": [
    {
     "name": "stdout",
     "output_type": "stream",
     "text": [
      " \n",
      "Log-likelihood (simulated at posterior means): -651.9912237048596\n"
     ]
    },
    {
     "data": {
      "text/plain": [
       "{'unconditionalLogLik': -651.9912237048596,\n",
       " 'conditionalLogLik': -481.20318558221015,\n",
       " 'unconditionalChosenProb': 0.5118410425851324,\n",
       " 'conditionalChosenProb': 0.6945433440830614}"
      ]
     },
     "execution_count": 28,
     "metadata": {},
     "output_type": "execute_result"
    }
   ],
   "source": [
    "testxFix = np.hstack((testconst2, testconst3))\n",
    "testxRnd = np.hstack((testcost / 10, testtt / 10))\n",
    "\n",
    "test(results,\n",
    "        seed, simDraws, testindID, testobsID, testaltID, testchosen,\n",
    "        testxFix, testxRnd,\n",
    "        xFix_trans, xRnd_trans)"
   ]
  },
  {
   "cell_type": "markdown",
   "metadata": {},
   "source": [
    "# 2. (MXL 2) \n",
    "This is a logit mixture model where *all* variables: cost, time, and alternative specific parameters are *normally* distributed random variables.\n",
    "\n",
    "- V_car = ASC_car + BETA_time * TIME_car + BETA_cost * COST_car\n",
    "- V_SM = ASC_SM + BETA_time * TIME_SM + BETA_cost * COST_SM\n",
    "- V_train = BETA_time*TIME_train + BETA_cost * COST_train\n",
    "\n",
    "Where BETA_time, BETA_cost, ASC_car,and ASC_SM are normally distributed random variables.\n",
    "\n",
    "Note that in this model specification, both the mean and variance for the train alternative are fixed to zero in order to normalize the model.  Proper model estimation would be done in two stages.  The first stage would estimate the unidentified model without the train variance fixed to zero in order to find the smallest variance value.  The smallest value would then be normalized to zero for the  second stage of estimation.\n"
   ]
  },
  {
   "cell_type": "code",
   "execution_count": 28,
   "metadata": {},
   "outputs": [
    {
     "name": "stdout",
     "output_type": "stream",
     "text": [
      " \n",
      "Computation time [s]: 556.8028385639191\n",
      " \n",
      "Random parameters (means):\n",
      "       mean  std. dev.      2.5%     97.5%      Rhat\n",
      "0 -0.006811   0.192645 -0.380114  0.375000  1.001087\n",
      "1  0.700808   0.228102  0.254882  1.151687  1.000768\n",
      "2 -0.564432   0.037921 -0.641728 -0.493622  1.028296\n",
      "3 -0.715819   0.037580 -0.791738 -0.644111  1.028836\n",
      " \n",
      "Random parameters (standard deviations):\n",
      "       mean  std. dev.      2.5%     97.5%      Rhat\n",
      "0  2.227488   0.215013  1.818990  2.661734  1.003090\n",
      "1  3.603926   0.269848  3.098442  4.152504  1.001957\n",
      "2  0.387283   0.041217  0.309406  0.471667  1.081652\n",
      "3  0.469561   0.032644  0.407820  0.536623  1.127215\n",
      " \n",
      "Random parameters (covariance matrix):\n",
      "         mean  std. dev.      2.5%      97.5%      Rhat\n",
      "0    5.007933   0.966097  3.308726   7.084830  1.006706\n",
      "1    0.000000   0.000000  0.000000   0.000000       NaN\n",
      "2    0.000000   0.000000  0.000000   0.000000       NaN\n",
      "3    0.000000   0.000000  0.000000   0.000000       NaN\n",
      "4    0.000000   0.000000  0.000000   0.000000       NaN\n",
      "5   13.061101   1.960661  9.600342  17.243294  1.001616\n",
      "6    0.000000   0.000000  0.000000   0.000000       NaN\n",
      "7    0.000000   0.000000  0.000000   0.000000       NaN\n",
      "8    0.000000   0.000000  0.000000   0.000000       NaN\n",
      "9    0.000000   0.000000  0.000000   0.000000       NaN\n",
      "10   0.151687   0.032230  0.095732   0.222470  3.626139\n",
      "11   0.000000   0.000000  0.000000   0.000000       NaN\n",
      "12   0.000000   0.000000  0.000000   0.000000       NaN\n",
      "13   0.000000   0.000000  0.000000   0.000000       NaN\n",
      "14   0.000000   0.000000  0.000000   0.000000       NaN\n",
      "15   0.221553   0.030908  0.166318   0.287964  3.767561\n",
      " \n",
      "Random parameters (correlation matrix):\n",
      "    mean  std. dev.  2.5%  97.5%  Rhat\n",
      "0    1.0        0.0   1.0    1.0   NaN\n",
      "1    0.0        0.0   0.0    0.0   NaN\n",
      "2    0.0        0.0   0.0    0.0   NaN\n",
      "3    0.0        0.0   0.0    0.0   NaN\n",
      "4    0.0        0.0   0.0    0.0   NaN\n",
      "5    1.0        0.0   1.0    1.0   NaN\n",
      "6    0.0        0.0   0.0    0.0   NaN\n",
      "7    0.0        0.0   0.0    0.0   NaN\n",
      "8    0.0        0.0   0.0    0.0   NaN\n",
      "9    0.0        0.0   0.0    0.0   NaN\n",
      "10   1.0        0.0   1.0    1.0   NaN\n",
      "11   0.0        0.0   0.0    0.0   NaN\n",
      "12   0.0        0.0   0.0    0.0   NaN\n",
      "13   0.0        0.0   0.0    0.0   NaN\n",
      "14   0.0        0.0   0.0    0.0   NaN\n",
      "15   1.0        0.0   1.0    1.0   NaN\n",
      " \n",
      "Log-likelihood (simulated at posterior means): -3131.3730334849006\n"
     ]
    }
   ],
   "source": [
    "xFix = np.empty([0,0]) #np.hstack(())\n",
    "xRnd = np.hstack((const2, const3, cost / 10, tt / 10))\n",
    "\n",
    "#Fixed parameter distributions\n",
    "#0: sign unrestricted\n",
    "#1: striclty negative or positive\n",
    "xFix_trans = np.array([])\n",
    "\n",
    "#Random parameter distributions\n",
    "#0: normal\n",
    "#1: log-normal\n",
    "#2: S_B\n",
    "xRnd_trans = np.array([0, 0, 0, 0])   # if you set these to 1, you obtain the log-normal distribution.\n",
    "\n",
    "paramFix_inits = np.zeros((xFix.shape[1],))\n",
    "zeta_inits = np.zeros((xRnd.shape[1],))\n",
    "Omega_inits = 0.1 * np.eye(xRnd.shape[1])\n",
    "\n",
    "A = 1.04\n",
    "nu = 2\n",
    "diagCov = True\n",
    "\n",
    "mcmc_nChain = 2\n",
    "# Note the extra iterations\n",
    "mcmc_iterBurn = 200000  # vs: 20000\n",
    "mcmc_iterSample = 200000  # vs: 20000\n",
    "mcmc_thin = 5\n",
    "mcmc_iterMem = 20000\n",
    "mcmc_disp = 1000\n",
    "seed = 4711\n",
    "simDraws = 10000\n",
    "\n",
    "rho = 0.1\n",
    "rhoF = 0.01\n",
    "\n",
    "modelName = 'model'\n",
    "deleteDraws = False\n",
    "\n",
    "results = estimate(\n",
    "        mcmc_nChain, mcmc_iterBurn, mcmc_iterSample, mcmc_thin, mcmc_iterMem, mcmc_disp, \n",
    "        seed, simDraws,\n",
    "        rhoF, rho,\n",
    "        modelName, deleteDraws,\n",
    "        A, nu, diagCov,\n",
    "        paramFix_inits, zeta_inits, Omega_inits,\n",
    "        indID, obsID, altID, chosen,\n",
    "       xFix, xRnd,\n",
    "        xFix_trans, xRnd_trans)"
   ]
  },
  {
   "cell_type": "markdown",
   "metadata": {},
   "source": [
    "The number of positive individual specific coefficients for cost and time are counted below."
   ]
  },
  {
   "cell_type": "code",
   "execution_count": 30,
   "metadata": {},
   "outputs": [
    {
     "name": "stdout",
     "output_type": "stream",
     "text": [
      "Total estimated individual specific coefficients: 752\n",
      "# estimated individual specific COST coefficients > 0:  8  Fraction:  0.010638297872340425\n",
      "# estimated individual specific TIME coefficients > 0:  26  Fraction:  0.034574468085106384\n"
     ]
    }
   ],
   "source": [
    "# Count individual specific coefficient values > 0 for cost and time\n",
    "# Cost: item 0 in results\n",
    "# Time: item 1 in results\n",
    "cost_coeffs_gt_zero_count = 0\n",
    "time_coeffs_gt_zero_count = 0\n",
    "\n",
    "results_df = pd.DataFrame(results['postMean_paramRnd'])\n",
    "for index, row in results_df.iterrows():\n",
    "    if (row[2] > 0):\n",
    "        cost_coeffs_gt_zero_count += 1\n",
    "    if (row[3] > 0):\n",
    "        time_coeffs_gt_zero_count += 1\n",
    "\n",
    "# How many??\n",
    "total_coeffs = results_df.shape[0] # 752\n",
    "print(\"Total estimated individual specific coefficients:\", total_coeffs)\n",
    "print(\"# estimated individual specific COST coefficients > 0: \", cost_coeffs_gt_zero_count, \" Fraction: \",  cost_coeffs_gt_zero_count/total_coeffs)\n",
    "print(\"# estimated individual specific TIME coefficients > 0: \", time_coeffs_gt_zero_count, \" Fraction: \",  time_coeffs_gt_zero_count/total_coeffs)"
   ]
  },
  {
   "cell_type": "markdown",
   "metadata": {},
   "source": [
    "Predictions on the test data"
   ]
  },
  {
   "cell_type": "code",
   "execution_count": 44,
   "metadata": {},
   "outputs": [
    {
     "name": "stdout",
     "output_type": "stream",
     "text": [
      " \n",
      "Log-likelihood (simulated at posterior means): -647.8026517686915\n"
     ]
    },
    {
     "data": {
      "text/plain": [
       "{'unconditionalLogLik': -647.8026517686915,\n",
       " 'conditionalLogLik': -455.77582816623067,\n",
       " 'unconditionalChosenProb': 0.5195688295308631,\n",
       " 'conditionalChosenProb': 0.7436788911173949}"
      ]
     },
     "execution_count": 44,
     "metadata": {},
     "output_type": "execute_result"
    }
   ],
   "source": [
    "testxFix = np.empty([0,0])\n",
    "testxRnd = np.hstack((testconst2, testconst3, testcost / 10, testtt / 10))\n",
    "\n",
    "test(results,\n",
    "        seed, simDraws, testindID, testobsID, testaltID, testchosen,\n",
    "        testxFix, testxRnd,\n",
    "        xFix_trans, xRnd_trans)"
   ]
  },
  {
   "cell_type": "markdown",
   "metadata": {},
   "source": [
    "# 3. (MXL 3) \n",
    "This is a logit mixture model where cost and time are log-normally distributed random variables, and the alternative specific parameters are constants (ASC’s).\n",
    "\n",
    "- V_car = ASC_car + BETA_time * TIME_car + BETA_cost * COST_car\n",
    "- V_SM = ASC_SM + BETA_time * TIME_SM + BETA_cost * COST_SM\n",
    "- V_train = BETA_time*TIME_train + BETA_cost * COST_train\n",
    "\n",
    "Where BETA_time and BETA_cost are log-normally distributed random variables, and ASC_car and ASC_SM alternative specific constants (the alternative specific constant for the train alternative is normalized to zero)."
   ]
  },
  {
   "cell_type": "code",
   "execution_count": 46,
   "metadata": {},
   "outputs": [
    {
     "name": "stdout",
     "output_type": "stream",
     "text": [
      " \n",
      "Computation time [s]: 83.12688279151917\n",
      " \n",
      "Fixed parameters:\n",
      "       mean  std. dev.      2.5%     97.5%      Rhat\n",
      "0 -0.230958   0.079589 -0.387074 -0.076887  1.008193\n",
      "1  0.562897   0.071738  0.422578  0.706022  1.010078\n",
      " \n",
      "Random parameters (means):\n",
      "       mean  std. dev.      2.5%     97.5%      Rhat\n",
      "0 -1.643367   0.125988 -1.898574 -1.398229  1.002418\n",
      "1 -0.841716   0.068357 -0.973698 -0.705896  1.008828\n",
      " \n",
      "Random parameters (standard deviations):\n",
      "       mean  std. dev.      2.5%     97.5%      Rhat\n",
      "0  1.747499   0.123857  1.516690  1.998678  1.000737\n",
      "1  1.355614   0.072767  1.222574  1.503236  1.002607\n",
      " \n",
      "Random parameters (covariance matrix):\n",
      "       mean  std. dev.      2.5%     97.5%      Rhat\n",
      "0  3.069095   0.437016  2.300350  3.994712  1.000563\n",
      "1  0.000000   0.000000  0.000000  0.000000       NaN\n",
      "2  0.000000   0.000000  0.000000  0.000000       NaN\n",
      "3  1.842986   0.198975  1.494687  2.259717  1.003668\n",
      " \n",
      "Random parameters (correlation matrix):\n",
      "   mean  std. dev.  2.5%  97.5%  Rhat\n",
      "0   1.0        0.0   1.0    1.0   NaN\n",
      "1   0.0        0.0   0.0    0.0   NaN\n",
      "2   0.0        0.0   0.0    0.0   NaN\n",
      "3   1.0        0.0   1.0    1.0   NaN\n",
      " \n",
      "Log-likelihood (simulated at posterior means): -3678.6070465107023\n"
     ]
    }
   ],
   "source": [
    "xFix = np.hstack((const2, const3))\n",
    "xRnd = np.hstack((-cost / 10, -tt / 10)) \n",
    "\n",
    "\n",
    "#Fixed parameter distributions\n",
    "#0: sign unrestricted\n",
    "#1: striclty negative or positive\n",
    "xFix_trans = np.array([0, 0])\n",
    "\n",
    "#Random parameter distributions\n",
    "#0: normal\n",
    "#1: log-normal\n",
    "#2: S_B\n",
    "xRnd_trans = np.array([1, 1])   # if you set these to 1, you obtain the log-normal distribution.\n",
    "\n",
    "paramFix_inits = np.zeros((xFix.shape[1],))\n",
    "zeta_inits = np.zeros((xRnd.shape[1],))\n",
    "Omega_inits = 0.1 * np.eye(xRnd.shape[1])\n",
    "\n",
    "A = 1.04\n",
    "nu = 2\n",
    "diagCov = True\n",
    "\n",
    "mcmc_nChain = 2\n",
    "mcmc_iterBurn = 20000\n",
    "mcmc_iterSample = 20000\n",
    "mcmc_thin = 5\n",
    "mcmc_iterMem = 20000\n",
    "mcmc_disp = 1000\n",
    "seed = 4711\n",
    "simDraws = 10000\n",
    "\n",
    "rho = 0.1\n",
    "rhoF = 0.01\n",
    "\n",
    "modelName = 'model'\n",
    "deleteDraws = False\n",
    "\n",
    "results = estimate(\n",
    "        mcmc_nChain, mcmc_iterBurn, mcmc_iterSample, mcmc_thin, mcmc_iterMem, mcmc_disp, \n",
    "        seed, simDraws,\n",
    "        rhoF, rho,\n",
    "        modelName, deleteDraws,\n",
    "        A, nu, diagCov,\n",
    "        paramFix_inits, zeta_inits, Omega_inits,\n",
    "        indID, obsID, altID, chosen,\n",
    "       xFix, xRnd,\n",
    "        xFix_trans, xRnd_trans)"
   ]
  },
  {
   "cell_type": "markdown",
   "metadata": {},
   "source": [
    "Predictions on the test data"
   ]
  },
  {
   "cell_type": "code",
   "execution_count": 47,
   "metadata": {},
   "outputs": [
    {
     "name": "stdout",
     "output_type": "stream",
     "text": [
      " \n",
      "Log-likelihood (simulated at posterior means): -659.1062774621745\n"
     ]
    },
    {
     "data": {
      "text/plain": [
       "{'unconditionalLogLik': -659.1062774621745,\n",
       " 'conditionalLogLik': -572.9883553544789,\n",
       " 'unconditionalChosenProb': 0.504376263015899,\n",
       " 'conditionalChosenProb': 0.6592616482282548}"
      ]
     },
     "execution_count": 47,
     "metadata": {},
     "output_type": "execute_result"
    }
   ],
   "source": [
    "testxFix = np.hstack((testconst2, testconst3))\n",
    "testxRnd = np.hstack((-testcost / 10, -testtt / 10))\n",
    "\n",
    "test(results,\n",
    "        seed, simDraws, testindID, testobsID, testaltID, testchosen,\n",
    "        testxFix, testxRnd,\n",
    "        xFix_trans, xRnd_trans)"
   ]
  },
  {
   "cell_type": "code",
   "execution_count": null,
   "metadata": {},
   "outputs": [],
   "source": []
  }
 ],
 "metadata": {
  "kernelspec": {
   "display_name": "Python 3",
   "language": "python",
   "name": "python3"
  },
  "language_info": {
   "codemirror_mode": {
    "name": "ipython",
    "version": 3
   },
   "file_extension": ".py",
   "mimetype": "text/x-python",
   "name": "python",
   "nbconvert_exporter": "python",
   "pygments_lexer": "ipython3",
   "version": "3.7.1"
  }
 },
 "nbformat": 4,
 "nbformat_minor": 2
}
